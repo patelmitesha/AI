{
  "nbformat": 4,
  "nbformat_minor": 0,
  "metadata": {
    "colab": {
      "provenance": [],
      "authorship_tag": "ABX9TyPOFFOBOmBSowg0fESOt+ka",
      "include_colab_link": true
    },
    "kernelspec": {
      "name": "python3",
      "display_name": "Python 3"
    },
    "language_info": {
      "name": "python"
    },
    "widgets": {
      "application/vnd.jupyter.widget-state+json": {
        "dca63aeef79348cfa17538845ec4a235": {
          "model_module": "@jupyter-widgets/controls",
          "model_name": "HBoxModel",
          "model_module_version": "1.5.0",
          "state": {
            "_dom_classes": [],
            "_model_module": "@jupyter-widgets/controls",
            "_model_module_version": "1.5.0",
            "_model_name": "HBoxModel",
            "_view_count": null,
            "_view_module": "@jupyter-widgets/controls",
            "_view_module_version": "1.5.0",
            "_view_name": "HBoxView",
            "box_style": "",
            "children": [
              "IPY_MODEL_ef05d75558674887be1778feaca4d0be",
              "IPY_MODEL_a3bdc9580dd848818d25e5df5d1bea2e",
              "IPY_MODEL_c54b0d3fefdf4d6a836da6791a4fad1d"
            ],
            "layout": "IPY_MODEL_475f5a27380042479f48dc12eea1a288"
          }
        },
        "ef05d75558674887be1778feaca4d0be": {
          "model_module": "@jupyter-widgets/controls",
          "model_name": "HTMLModel",
          "model_module_version": "1.5.0",
          "state": {
            "_dom_classes": [],
            "_model_module": "@jupyter-widgets/controls",
            "_model_module_version": "1.5.0",
            "_model_name": "HTMLModel",
            "_view_count": null,
            "_view_module": "@jupyter-widgets/controls",
            "_view_module_version": "1.5.0",
            "_view_name": "HTMLView",
            "description": "",
            "description_tooltip": null,
            "layout": "IPY_MODEL_59efa6ee561b4b6cb9c3a4e43ce36853",
            "placeholder": "​",
            "style": "IPY_MODEL_bbe00641f2c94d329c9be2154c89f87a",
            "value": ""
          }
        },
        "a3bdc9580dd848818d25e5df5d1bea2e": {
          "model_module": "@jupyter-widgets/controls",
          "model_name": "FloatProgressModel",
          "model_module_version": "1.5.0",
          "state": {
            "_dom_classes": [],
            "_model_module": "@jupyter-widgets/controls",
            "_model_module_version": "1.5.0",
            "_model_name": "FloatProgressModel",
            "_view_count": null,
            "_view_module": "@jupyter-widgets/controls",
            "_view_module_version": "1.5.0",
            "_view_name": "ProgressView",
            "bar_style": "success",
            "description": "",
            "description_tooltip": null,
            "layout": "IPY_MODEL_20fd46d285e64d0bab7feb923790cca6",
            "max": 1,
            "min": 0,
            "orientation": "horizontal",
            "style": "IPY_MODEL_f560cc9288be4884abd2e22825ff9ae6",
            "value": 0
          }
        },
        "c54b0d3fefdf4d6a836da6791a4fad1d": {
          "model_module": "@jupyter-widgets/controls",
          "model_name": "HTMLModel",
          "model_module_version": "1.5.0",
          "state": {
            "_dom_classes": [],
            "_model_module": "@jupyter-widgets/controls",
            "_model_module_version": "1.5.0",
            "_model_name": "HTMLModel",
            "_view_count": null,
            "_view_module": "@jupyter-widgets/controls",
            "_view_module_version": "1.5.0",
            "_view_name": "HTMLView",
            "description": "",
            "description_tooltip": null,
            "layout": "IPY_MODEL_e442c63313f44e3688f045c36e30fe4d",
            "placeholder": "​",
            "style": "IPY_MODEL_a302c9810bda4a7faab8e09658aeaf2e",
            "value": " 0/0 [00:00&lt;?, ?it/s]"
          }
        },
        "475f5a27380042479f48dc12eea1a288": {
          "model_module": "@jupyter-widgets/base",
          "model_name": "LayoutModel",
          "model_module_version": "1.2.0",
          "state": {
            "_model_module": "@jupyter-widgets/base",
            "_model_module_version": "1.2.0",
            "_model_name": "LayoutModel",
            "_view_count": null,
            "_view_module": "@jupyter-widgets/base",
            "_view_module_version": "1.2.0",
            "_view_name": "LayoutView",
            "align_content": null,
            "align_items": null,
            "align_self": null,
            "border": null,
            "bottom": null,
            "display": null,
            "flex": null,
            "flex_flow": null,
            "grid_area": null,
            "grid_auto_columns": null,
            "grid_auto_flow": null,
            "grid_auto_rows": null,
            "grid_column": null,
            "grid_gap": null,
            "grid_row": null,
            "grid_template_areas": null,
            "grid_template_columns": null,
            "grid_template_rows": null,
            "height": null,
            "justify_content": null,
            "justify_items": null,
            "left": null,
            "margin": null,
            "max_height": null,
            "max_width": null,
            "min_height": null,
            "min_width": null,
            "object_fit": null,
            "object_position": null,
            "order": null,
            "overflow": null,
            "overflow_x": null,
            "overflow_y": null,
            "padding": null,
            "right": null,
            "top": null,
            "visibility": null,
            "width": null
          }
        },
        "59efa6ee561b4b6cb9c3a4e43ce36853": {
          "model_module": "@jupyter-widgets/base",
          "model_name": "LayoutModel",
          "model_module_version": "1.2.0",
          "state": {
            "_model_module": "@jupyter-widgets/base",
            "_model_module_version": "1.2.0",
            "_model_name": "LayoutModel",
            "_view_count": null,
            "_view_module": "@jupyter-widgets/base",
            "_view_module_version": "1.2.0",
            "_view_name": "LayoutView",
            "align_content": null,
            "align_items": null,
            "align_self": null,
            "border": null,
            "bottom": null,
            "display": null,
            "flex": null,
            "flex_flow": null,
            "grid_area": null,
            "grid_auto_columns": null,
            "grid_auto_flow": null,
            "grid_auto_rows": null,
            "grid_column": null,
            "grid_gap": null,
            "grid_row": null,
            "grid_template_areas": null,
            "grid_template_columns": null,
            "grid_template_rows": null,
            "height": null,
            "justify_content": null,
            "justify_items": null,
            "left": null,
            "margin": null,
            "max_height": null,
            "max_width": null,
            "min_height": null,
            "min_width": null,
            "object_fit": null,
            "object_position": null,
            "order": null,
            "overflow": null,
            "overflow_x": null,
            "overflow_y": null,
            "padding": null,
            "right": null,
            "top": null,
            "visibility": null,
            "width": null
          }
        },
        "bbe00641f2c94d329c9be2154c89f87a": {
          "model_module": "@jupyter-widgets/controls",
          "model_name": "DescriptionStyleModel",
          "model_module_version": "1.5.0",
          "state": {
            "_model_module": "@jupyter-widgets/controls",
            "_model_module_version": "1.5.0",
            "_model_name": "DescriptionStyleModel",
            "_view_count": null,
            "_view_module": "@jupyter-widgets/base",
            "_view_module_version": "1.2.0",
            "_view_name": "StyleView",
            "description_width": ""
          }
        },
        "20fd46d285e64d0bab7feb923790cca6": {
          "model_module": "@jupyter-widgets/base",
          "model_name": "LayoutModel",
          "model_module_version": "1.2.0",
          "state": {
            "_model_module": "@jupyter-widgets/base",
            "_model_module_version": "1.2.0",
            "_model_name": "LayoutModel",
            "_view_count": null,
            "_view_module": "@jupyter-widgets/base",
            "_view_module_version": "1.2.0",
            "_view_name": "LayoutView",
            "align_content": null,
            "align_items": null,
            "align_self": null,
            "border": null,
            "bottom": null,
            "display": null,
            "flex": null,
            "flex_flow": null,
            "grid_area": null,
            "grid_auto_columns": null,
            "grid_auto_flow": null,
            "grid_auto_rows": null,
            "grid_column": null,
            "grid_gap": null,
            "grid_row": null,
            "grid_template_areas": null,
            "grid_template_columns": null,
            "grid_template_rows": null,
            "height": null,
            "justify_content": null,
            "justify_items": null,
            "left": null,
            "margin": null,
            "max_height": null,
            "max_width": null,
            "min_height": null,
            "min_width": null,
            "object_fit": null,
            "object_position": null,
            "order": null,
            "overflow": null,
            "overflow_x": null,
            "overflow_y": null,
            "padding": null,
            "right": null,
            "top": null,
            "visibility": null,
            "width": "20px"
          }
        },
        "f560cc9288be4884abd2e22825ff9ae6": {
          "model_module": "@jupyter-widgets/controls",
          "model_name": "ProgressStyleModel",
          "model_module_version": "1.5.0",
          "state": {
            "_model_module": "@jupyter-widgets/controls",
            "_model_module_version": "1.5.0",
            "_model_name": "ProgressStyleModel",
            "_view_count": null,
            "_view_module": "@jupyter-widgets/base",
            "_view_module_version": "1.2.0",
            "_view_name": "StyleView",
            "bar_color": null,
            "description_width": ""
          }
        },
        "e442c63313f44e3688f045c36e30fe4d": {
          "model_module": "@jupyter-widgets/base",
          "model_name": "LayoutModel",
          "model_module_version": "1.2.0",
          "state": {
            "_model_module": "@jupyter-widgets/base",
            "_model_module_version": "1.2.0",
            "_model_name": "LayoutModel",
            "_view_count": null,
            "_view_module": "@jupyter-widgets/base",
            "_view_module_version": "1.2.0",
            "_view_name": "LayoutView",
            "align_content": null,
            "align_items": null,
            "align_self": null,
            "border": null,
            "bottom": null,
            "display": null,
            "flex": null,
            "flex_flow": null,
            "grid_area": null,
            "grid_auto_columns": null,
            "grid_auto_flow": null,
            "grid_auto_rows": null,
            "grid_column": null,
            "grid_gap": null,
            "grid_row": null,
            "grid_template_areas": null,
            "grid_template_columns": null,
            "grid_template_rows": null,
            "height": null,
            "justify_content": null,
            "justify_items": null,
            "left": null,
            "margin": null,
            "max_height": null,
            "max_width": null,
            "min_height": null,
            "min_width": null,
            "object_fit": null,
            "object_position": null,
            "order": null,
            "overflow": null,
            "overflow_x": null,
            "overflow_y": null,
            "padding": null,
            "right": null,
            "top": null,
            "visibility": null,
            "width": null
          }
        },
        "a302c9810bda4a7faab8e09658aeaf2e": {
          "model_module": "@jupyter-widgets/controls",
          "model_name": "DescriptionStyleModel",
          "model_module_version": "1.5.0",
          "state": {
            "_model_module": "@jupyter-widgets/controls",
            "_model_module_version": "1.5.0",
            "_model_name": "DescriptionStyleModel",
            "_view_count": null,
            "_view_module": "@jupyter-widgets/base",
            "_view_module_version": "1.2.0",
            "_view_name": "StyleView",
            "description_width": ""
          }
        },
        "35bc74534b5e4a8aa300f39708be31c8": {
          "model_module": "@jupyter-widgets/controls",
          "model_name": "HBoxModel",
          "model_module_version": "1.5.0",
          "state": {
            "_dom_classes": [],
            "_model_module": "@jupyter-widgets/controls",
            "_model_module_version": "1.5.0",
            "_model_name": "HBoxModel",
            "_view_count": null,
            "_view_module": "@jupyter-widgets/controls",
            "_view_module_version": "1.5.0",
            "_view_name": "HBoxView",
            "box_style": "",
            "children": [
              "IPY_MODEL_aa0b67cf65fb4538ad7d7221876c6d01",
              "IPY_MODEL_eb8c31bba8444d2e9e844006960d0732",
              "IPY_MODEL_8a7ebdf5363c4b1698935d76a06de6d9"
            ],
            "layout": "IPY_MODEL_9574f9c8990844ed8cf9391ba84ee4d0"
          }
        },
        "aa0b67cf65fb4538ad7d7221876c6d01": {
          "model_module": "@jupyter-widgets/controls",
          "model_name": "HTMLModel",
          "model_module_version": "1.5.0",
          "state": {
            "_dom_classes": [],
            "_model_module": "@jupyter-widgets/controls",
            "_model_module_version": "1.5.0",
            "_model_name": "HTMLModel",
            "_view_count": null,
            "_view_module": "@jupyter-widgets/controls",
            "_view_module_version": "1.5.0",
            "_view_name": "HTMLView",
            "description": "",
            "description_tooltip": null,
            "layout": "IPY_MODEL_9c319d0fe6d64486b5d26ef6bec4eb0f",
            "placeholder": "​",
            "style": "IPY_MODEL_20c93b13b7494eb6a1a809f9131b7923",
            "value": "config.json: 100%"
          }
        },
        "eb8c31bba8444d2e9e844006960d0732": {
          "model_module": "@jupyter-widgets/controls",
          "model_name": "FloatProgressModel",
          "model_module_version": "1.5.0",
          "state": {
            "_dom_classes": [],
            "_model_module": "@jupyter-widgets/controls",
            "_model_module_version": "1.5.0",
            "_model_name": "FloatProgressModel",
            "_view_count": null,
            "_view_module": "@jupyter-widgets/controls",
            "_view_module_version": "1.5.0",
            "_view_name": "ProgressView",
            "bar_style": "success",
            "description": "",
            "description_tooltip": null,
            "layout": "IPY_MODEL_6fecddc2efbf484485f14166bd062bb2",
            "max": 1469,
            "min": 0,
            "orientation": "horizontal",
            "style": "IPY_MODEL_d3be09649afd44cb96918d94ba43be24",
            "value": 1469
          }
        },
        "8a7ebdf5363c4b1698935d76a06de6d9": {
          "model_module": "@jupyter-widgets/controls",
          "model_name": "HTMLModel",
          "model_module_version": "1.5.0",
          "state": {
            "_dom_classes": [],
            "_model_module": "@jupyter-widgets/controls",
            "_model_module_version": "1.5.0",
            "_model_name": "HTMLModel",
            "_view_count": null,
            "_view_module": "@jupyter-widgets/controls",
            "_view_module_version": "1.5.0",
            "_view_name": "HTMLView",
            "description": "",
            "description_tooltip": null,
            "layout": "IPY_MODEL_6d4f389fab3946298ea1d9f163a4937a",
            "placeholder": "​",
            "style": "IPY_MODEL_e65ceb791e2f491783f6b83bc539baa7",
            "value": " 1.47k/1.47k [00:00&lt;00:00, 80.5kB/s]"
          }
        },
        "9574f9c8990844ed8cf9391ba84ee4d0": {
          "model_module": "@jupyter-widgets/base",
          "model_name": "LayoutModel",
          "model_module_version": "1.2.0",
          "state": {
            "_model_module": "@jupyter-widgets/base",
            "_model_module_version": "1.2.0",
            "_model_name": "LayoutModel",
            "_view_count": null,
            "_view_module": "@jupyter-widgets/base",
            "_view_module_version": "1.2.0",
            "_view_name": "LayoutView",
            "align_content": null,
            "align_items": null,
            "align_self": null,
            "border": null,
            "bottom": null,
            "display": null,
            "flex": null,
            "flex_flow": null,
            "grid_area": null,
            "grid_auto_columns": null,
            "grid_auto_flow": null,
            "grid_auto_rows": null,
            "grid_column": null,
            "grid_gap": null,
            "grid_row": null,
            "grid_template_areas": null,
            "grid_template_columns": null,
            "grid_template_rows": null,
            "height": null,
            "justify_content": null,
            "justify_items": null,
            "left": null,
            "margin": null,
            "max_height": null,
            "max_width": null,
            "min_height": null,
            "min_width": null,
            "object_fit": null,
            "object_position": null,
            "order": null,
            "overflow": null,
            "overflow_x": null,
            "overflow_y": null,
            "padding": null,
            "right": null,
            "top": null,
            "visibility": null,
            "width": null
          }
        },
        "9c319d0fe6d64486b5d26ef6bec4eb0f": {
          "model_module": "@jupyter-widgets/base",
          "model_name": "LayoutModel",
          "model_module_version": "1.2.0",
          "state": {
            "_model_module": "@jupyter-widgets/base",
            "_model_module_version": "1.2.0",
            "_model_name": "LayoutModel",
            "_view_count": null,
            "_view_module": "@jupyter-widgets/base",
            "_view_module_version": "1.2.0",
            "_view_name": "LayoutView",
            "align_content": null,
            "align_items": null,
            "align_self": null,
            "border": null,
            "bottom": null,
            "display": null,
            "flex": null,
            "flex_flow": null,
            "grid_area": null,
            "grid_auto_columns": null,
            "grid_auto_flow": null,
            "grid_auto_rows": null,
            "grid_column": null,
            "grid_gap": null,
            "grid_row": null,
            "grid_template_areas": null,
            "grid_template_columns": null,
            "grid_template_rows": null,
            "height": null,
            "justify_content": null,
            "justify_items": null,
            "left": null,
            "margin": null,
            "max_height": null,
            "max_width": null,
            "min_height": null,
            "min_width": null,
            "object_fit": null,
            "object_position": null,
            "order": null,
            "overflow": null,
            "overflow_x": null,
            "overflow_y": null,
            "padding": null,
            "right": null,
            "top": null,
            "visibility": null,
            "width": null
          }
        },
        "20c93b13b7494eb6a1a809f9131b7923": {
          "model_module": "@jupyter-widgets/controls",
          "model_name": "DescriptionStyleModel",
          "model_module_version": "1.5.0",
          "state": {
            "_model_module": "@jupyter-widgets/controls",
            "_model_module_version": "1.5.0",
            "_model_name": "DescriptionStyleModel",
            "_view_count": null,
            "_view_module": "@jupyter-widgets/base",
            "_view_module_version": "1.2.0",
            "_view_name": "StyleView",
            "description_width": ""
          }
        },
        "6fecddc2efbf484485f14166bd062bb2": {
          "model_module": "@jupyter-widgets/base",
          "model_name": "LayoutModel",
          "model_module_version": "1.2.0",
          "state": {
            "_model_module": "@jupyter-widgets/base",
            "_model_module_version": "1.2.0",
            "_model_name": "LayoutModel",
            "_view_count": null,
            "_view_module": "@jupyter-widgets/base",
            "_view_module_version": "1.2.0",
            "_view_name": "LayoutView",
            "align_content": null,
            "align_items": null,
            "align_self": null,
            "border": null,
            "bottom": null,
            "display": null,
            "flex": null,
            "flex_flow": null,
            "grid_area": null,
            "grid_auto_columns": null,
            "grid_auto_flow": null,
            "grid_auto_rows": null,
            "grid_column": null,
            "grid_gap": null,
            "grid_row": null,
            "grid_template_areas": null,
            "grid_template_columns": null,
            "grid_template_rows": null,
            "height": null,
            "justify_content": null,
            "justify_items": null,
            "left": null,
            "margin": null,
            "max_height": null,
            "max_width": null,
            "min_height": null,
            "min_width": null,
            "object_fit": null,
            "object_position": null,
            "order": null,
            "overflow": null,
            "overflow_x": null,
            "overflow_y": null,
            "padding": null,
            "right": null,
            "top": null,
            "visibility": null,
            "width": null
          }
        },
        "d3be09649afd44cb96918d94ba43be24": {
          "model_module": "@jupyter-widgets/controls",
          "model_name": "ProgressStyleModel",
          "model_module_version": "1.5.0",
          "state": {
            "_model_module": "@jupyter-widgets/controls",
            "_model_module_version": "1.5.0",
            "_model_name": "ProgressStyleModel",
            "_view_count": null,
            "_view_module": "@jupyter-widgets/base",
            "_view_module_version": "1.2.0",
            "_view_name": "StyleView",
            "bar_color": null,
            "description_width": ""
          }
        },
        "6d4f389fab3946298ea1d9f163a4937a": {
          "model_module": "@jupyter-widgets/base",
          "model_name": "LayoutModel",
          "model_module_version": "1.2.0",
          "state": {
            "_model_module": "@jupyter-widgets/base",
            "_model_module_version": "1.2.0",
            "_model_name": "LayoutModel",
            "_view_count": null,
            "_view_module": "@jupyter-widgets/base",
            "_view_module_version": "1.2.0",
            "_view_name": "LayoutView",
            "align_content": null,
            "align_items": null,
            "align_self": null,
            "border": null,
            "bottom": null,
            "display": null,
            "flex": null,
            "flex_flow": null,
            "grid_area": null,
            "grid_auto_columns": null,
            "grid_auto_flow": null,
            "grid_auto_rows": null,
            "grid_column": null,
            "grid_gap": null,
            "grid_row": null,
            "grid_template_areas": null,
            "grid_template_columns": null,
            "grid_template_rows": null,
            "height": null,
            "justify_content": null,
            "justify_items": null,
            "left": null,
            "margin": null,
            "max_height": null,
            "max_width": null,
            "min_height": null,
            "min_width": null,
            "object_fit": null,
            "object_position": null,
            "order": null,
            "overflow": null,
            "overflow_x": null,
            "overflow_y": null,
            "padding": null,
            "right": null,
            "top": null,
            "visibility": null,
            "width": null
          }
        },
        "e65ceb791e2f491783f6b83bc539baa7": {
          "model_module": "@jupyter-widgets/controls",
          "model_name": "DescriptionStyleModel",
          "model_module_version": "1.5.0",
          "state": {
            "_model_module": "@jupyter-widgets/controls",
            "_model_module_version": "1.5.0",
            "_model_name": "DescriptionStyleModel",
            "_view_count": null,
            "_view_module": "@jupyter-widgets/base",
            "_view_module_version": "1.2.0",
            "_view_name": "StyleView",
            "description_width": ""
          }
        },
        "dfc4f2145555439880a78eb088dda94d": {
          "model_module": "@jupyter-widgets/controls",
          "model_name": "HBoxModel",
          "model_module_version": "1.5.0",
          "state": {
            "_dom_classes": [],
            "_model_module": "@jupyter-widgets/controls",
            "_model_module_version": "1.5.0",
            "_model_name": "HBoxModel",
            "_view_count": null,
            "_view_module": "@jupyter-widgets/controls",
            "_view_module_version": "1.5.0",
            "_view_name": "HBoxView",
            "box_style": "",
            "children": [
              "IPY_MODEL_ad427090b9334322b34b831a74e5e469",
              "IPY_MODEL_3ff3cdcdd8634363bafd42d2079c6a48",
              "IPY_MODEL_af5f1c777af047dfb4f83abea4dcbdd8"
            ],
            "layout": "IPY_MODEL_dd7f4f82be6c49769751de5ffeea4122"
          }
        },
        "ad427090b9334322b34b831a74e5e469": {
          "model_module": "@jupyter-widgets/controls",
          "model_name": "HTMLModel",
          "model_module_version": "1.5.0",
          "state": {
            "_dom_classes": [],
            "_model_module": "@jupyter-widgets/controls",
            "_model_module_version": "1.5.0",
            "_model_name": "HTMLModel",
            "_view_count": null,
            "_view_module": "@jupyter-widgets/controls",
            "_view_module_version": "1.5.0",
            "_view_name": "HTMLView",
            "description": "",
            "description_tooltip": null,
            "layout": "IPY_MODEL_3b4221d195754cba992bb8d107c35f63",
            "placeholder": "​",
            "style": "IPY_MODEL_7be1b9fe0413402f88b13c1a6645f3c2",
            "value": "model.safetensors: 100%"
          }
        },
        "3ff3cdcdd8634363bafd42d2079c6a48": {
          "model_module": "@jupyter-widgets/controls",
          "model_name": "FloatProgressModel",
          "model_module_version": "1.5.0",
          "state": {
            "_dom_classes": [],
            "_model_module": "@jupyter-widgets/controls",
            "_model_module_version": "1.5.0",
            "_model_name": "FloatProgressModel",
            "_view_count": null,
            "_view_module": "@jupyter-widgets/controls",
            "_view_module_version": "1.5.0",
            "_view_name": "ProgressView",
            "bar_style": "success",
            "description": "",
            "description_tooltip": null,
            "layout": "IPY_MODEL_83f524f4f9b046d79ba7b1b721ac20d5",
            "max": 115434268,
            "min": 0,
            "orientation": "horizontal",
            "style": "IPY_MODEL_c9be6705f457426d9d4042a603066ad0",
            "value": 115434268
          }
        },
        "af5f1c777af047dfb4f83abea4dcbdd8": {
          "model_module": "@jupyter-widgets/controls",
          "model_name": "HTMLModel",
          "model_module_version": "1.5.0",
          "state": {
            "_dom_classes": [],
            "_model_module": "@jupyter-widgets/controls",
            "_model_module_version": "1.5.0",
            "_model_name": "HTMLModel",
            "_view_count": null,
            "_view_module": "@jupyter-widgets/controls",
            "_view_module_version": "1.5.0",
            "_view_name": "HTMLView",
            "description": "",
            "description_tooltip": null,
            "layout": "IPY_MODEL_ee3330f84e0047f498358409cba07c75",
            "placeholder": "​",
            "style": "IPY_MODEL_31eb99ba00d84cc483ca14c4eb28eec2",
            "value": " 115M/115M [00:00&lt;00:00, 163MB/s]"
          }
        },
        "dd7f4f82be6c49769751de5ffeea4122": {
          "model_module": "@jupyter-widgets/base",
          "model_name": "LayoutModel",
          "model_module_version": "1.2.0",
          "state": {
            "_model_module": "@jupyter-widgets/base",
            "_model_module_version": "1.2.0",
            "_model_name": "LayoutModel",
            "_view_count": null,
            "_view_module": "@jupyter-widgets/base",
            "_view_module_version": "1.2.0",
            "_view_name": "LayoutView",
            "align_content": null,
            "align_items": null,
            "align_self": null,
            "border": null,
            "bottom": null,
            "display": null,
            "flex": null,
            "flex_flow": null,
            "grid_area": null,
            "grid_auto_columns": null,
            "grid_auto_flow": null,
            "grid_auto_rows": null,
            "grid_column": null,
            "grid_gap": null,
            "grid_row": null,
            "grid_template_areas": null,
            "grid_template_columns": null,
            "grid_template_rows": null,
            "height": null,
            "justify_content": null,
            "justify_items": null,
            "left": null,
            "margin": null,
            "max_height": null,
            "max_width": null,
            "min_height": null,
            "min_width": null,
            "object_fit": null,
            "object_position": null,
            "order": null,
            "overflow": null,
            "overflow_x": null,
            "overflow_y": null,
            "padding": null,
            "right": null,
            "top": null,
            "visibility": null,
            "width": null
          }
        },
        "3b4221d195754cba992bb8d107c35f63": {
          "model_module": "@jupyter-widgets/base",
          "model_name": "LayoutModel",
          "model_module_version": "1.2.0",
          "state": {
            "_model_module": "@jupyter-widgets/base",
            "_model_module_version": "1.2.0",
            "_model_name": "LayoutModel",
            "_view_count": null,
            "_view_module": "@jupyter-widgets/base",
            "_view_module_version": "1.2.0",
            "_view_name": "LayoutView",
            "align_content": null,
            "align_items": null,
            "align_self": null,
            "border": null,
            "bottom": null,
            "display": null,
            "flex": null,
            "flex_flow": null,
            "grid_area": null,
            "grid_auto_columns": null,
            "grid_auto_flow": null,
            "grid_auto_rows": null,
            "grid_column": null,
            "grid_gap": null,
            "grid_row": null,
            "grid_template_areas": null,
            "grid_template_columns": null,
            "grid_template_rows": null,
            "height": null,
            "justify_content": null,
            "justify_items": null,
            "left": null,
            "margin": null,
            "max_height": null,
            "max_width": null,
            "min_height": null,
            "min_width": null,
            "object_fit": null,
            "object_position": null,
            "order": null,
            "overflow": null,
            "overflow_x": null,
            "overflow_y": null,
            "padding": null,
            "right": null,
            "top": null,
            "visibility": null,
            "width": null
          }
        },
        "7be1b9fe0413402f88b13c1a6645f3c2": {
          "model_module": "@jupyter-widgets/controls",
          "model_name": "DescriptionStyleModel",
          "model_module_version": "1.5.0",
          "state": {
            "_model_module": "@jupyter-widgets/controls",
            "_model_module_version": "1.5.0",
            "_model_name": "DescriptionStyleModel",
            "_view_count": null,
            "_view_module": "@jupyter-widgets/base",
            "_view_module_version": "1.2.0",
            "_view_name": "StyleView",
            "description_width": ""
          }
        },
        "83f524f4f9b046d79ba7b1b721ac20d5": {
          "model_module": "@jupyter-widgets/base",
          "model_name": "LayoutModel",
          "model_module_version": "1.2.0",
          "state": {
            "_model_module": "@jupyter-widgets/base",
            "_model_module_version": "1.2.0",
            "_model_name": "LayoutModel",
            "_view_count": null,
            "_view_module": "@jupyter-widgets/base",
            "_view_module_version": "1.2.0",
            "_view_name": "LayoutView",
            "align_content": null,
            "align_items": null,
            "align_self": null,
            "border": null,
            "bottom": null,
            "display": null,
            "flex": null,
            "flex_flow": null,
            "grid_area": null,
            "grid_auto_columns": null,
            "grid_auto_flow": null,
            "grid_auto_rows": null,
            "grid_column": null,
            "grid_gap": null,
            "grid_row": null,
            "grid_template_areas": null,
            "grid_template_columns": null,
            "grid_template_rows": null,
            "height": null,
            "justify_content": null,
            "justify_items": null,
            "left": null,
            "margin": null,
            "max_height": null,
            "max_width": null,
            "min_height": null,
            "min_width": null,
            "object_fit": null,
            "object_position": null,
            "order": null,
            "overflow": null,
            "overflow_x": null,
            "overflow_y": null,
            "padding": null,
            "right": null,
            "top": null,
            "visibility": null,
            "width": null
          }
        },
        "c9be6705f457426d9d4042a603066ad0": {
          "model_module": "@jupyter-widgets/controls",
          "model_name": "ProgressStyleModel",
          "model_module_version": "1.5.0",
          "state": {
            "_model_module": "@jupyter-widgets/controls",
            "_model_module_version": "1.5.0",
            "_model_name": "ProgressStyleModel",
            "_view_count": null,
            "_view_module": "@jupyter-widgets/base",
            "_view_module_version": "1.2.0",
            "_view_name": "StyleView",
            "bar_color": null,
            "description_width": ""
          }
        },
        "ee3330f84e0047f498358409cba07c75": {
          "model_module": "@jupyter-widgets/base",
          "model_name": "LayoutModel",
          "model_module_version": "1.2.0",
          "state": {
            "_model_module": "@jupyter-widgets/base",
            "_model_module_version": "1.2.0",
            "_model_name": "LayoutModel",
            "_view_count": null,
            "_view_module": "@jupyter-widgets/base",
            "_view_module_version": "1.2.0",
            "_view_name": "LayoutView",
            "align_content": null,
            "align_items": null,
            "align_self": null,
            "border": null,
            "bottom": null,
            "display": null,
            "flex": null,
            "flex_flow": null,
            "grid_area": null,
            "grid_auto_columns": null,
            "grid_auto_flow": null,
            "grid_auto_rows": null,
            "grid_column": null,
            "grid_gap": null,
            "grid_row": null,
            "grid_template_areas": null,
            "grid_template_columns": null,
            "grid_template_rows": null,
            "height": null,
            "justify_content": null,
            "justify_items": null,
            "left": null,
            "margin": null,
            "max_height": null,
            "max_width": null,
            "min_height": null,
            "min_width": null,
            "object_fit": null,
            "object_position": null,
            "order": null,
            "overflow": null,
            "overflow_x": null,
            "overflow_y": null,
            "padding": null,
            "right": null,
            "top": null,
            "visibility": null,
            "width": null
          }
        },
        "31eb99ba00d84cc483ca14c4eb28eec2": {
          "model_module": "@jupyter-widgets/controls",
          "model_name": "DescriptionStyleModel",
          "model_module_version": "1.5.0",
          "state": {
            "_model_module": "@jupyter-widgets/controls",
            "_model_module_version": "1.5.0",
            "_model_name": "DescriptionStyleModel",
            "_view_count": null,
            "_view_module": "@jupyter-widgets/base",
            "_view_module_version": "1.2.0",
            "_view_name": "StyleView",
            "description_width": ""
          }
        },
        "4883513339094fb2b2412eed970f4af4": {
          "model_module": "@jupyter-widgets/controls",
          "model_name": "HBoxModel",
          "model_module_version": "1.5.0",
          "state": {
            "_dom_classes": [],
            "_model_module": "@jupyter-widgets/controls",
            "_model_module_version": "1.5.0",
            "_model_name": "HBoxModel",
            "_view_count": null,
            "_view_module": "@jupyter-widgets/controls",
            "_view_module_version": "1.5.0",
            "_view_name": "HBoxView",
            "box_style": "",
            "children": [
              "IPY_MODEL_be6a8a6832c54ae78a382e06bee1cc3d",
              "IPY_MODEL_4cb7ff3227d94648a77c240eb1f3f5f5",
              "IPY_MODEL_1e51bdd3730b4112baa30d0208e2bb5a"
            ],
            "layout": "IPY_MODEL_8963985d887245ce94b31bd619fd5a84"
          }
        },
        "be6a8a6832c54ae78a382e06bee1cc3d": {
          "model_module": "@jupyter-widgets/controls",
          "model_name": "HTMLModel",
          "model_module_version": "1.5.0",
          "state": {
            "_dom_classes": [],
            "_model_module": "@jupyter-widgets/controls",
            "_model_module_version": "1.5.0",
            "_model_name": "HTMLModel",
            "_view_count": null,
            "_view_module": "@jupyter-widgets/controls",
            "_view_module_version": "1.5.0",
            "_view_name": "HTMLView",
            "description": "",
            "description_tooltip": null,
            "layout": "IPY_MODEL_26af12f177ca41b8bbb64372c40ea8ff",
            "placeholder": "​",
            "style": "IPY_MODEL_7b7c13546c704a61bf0d54c5b43bcbfe",
            "value": "model.safetensors: 100%"
          }
        },
        "4cb7ff3227d94648a77c240eb1f3f5f5": {
          "model_module": "@jupyter-widgets/controls",
          "model_name": "FloatProgressModel",
          "model_module_version": "1.5.0",
          "state": {
            "_dom_classes": [],
            "_model_module": "@jupyter-widgets/controls",
            "_model_module_version": "1.5.0",
            "_model_name": "FloatProgressModel",
            "_view_count": null,
            "_view_module": "@jupyter-widgets/controls",
            "_view_module_version": "1.5.0",
            "_view_name": "ProgressView",
            "bar_style": "success",
            "description": "",
            "description_tooltip": null,
            "layout": "IPY_MODEL_634a30c5a24843b5be61c13dc41ea4bb",
            "max": 46807446,
            "min": 0,
            "orientation": "horizontal",
            "style": "IPY_MODEL_ece1a97baed24f57b017e82bf3adfabc",
            "value": 46807446
          }
        },
        "1e51bdd3730b4112baa30d0208e2bb5a": {
          "model_module": "@jupyter-widgets/controls",
          "model_name": "HTMLModel",
          "model_module_version": "1.5.0",
          "state": {
            "_dom_classes": [],
            "_model_module": "@jupyter-widgets/controls",
            "_model_module_version": "1.5.0",
            "_model_name": "HTMLModel",
            "_view_count": null,
            "_view_module": "@jupyter-widgets/controls",
            "_view_module_version": "1.5.0",
            "_view_name": "HTMLView",
            "description": "",
            "description_tooltip": null,
            "layout": "IPY_MODEL_8a8c3dfcfc4a4b1fa785d10b9b2ac400",
            "placeholder": "​",
            "style": "IPY_MODEL_8142e0fc6026446c906e808b200266da",
            "value": " 46.8M/46.8M [00:00&lt;00:00, 213MB/s]"
          }
        },
        "8963985d887245ce94b31bd619fd5a84": {
          "model_module": "@jupyter-widgets/base",
          "model_name": "LayoutModel",
          "model_module_version": "1.2.0",
          "state": {
            "_model_module": "@jupyter-widgets/base",
            "_model_module_version": "1.2.0",
            "_model_name": "LayoutModel",
            "_view_count": null,
            "_view_module": "@jupyter-widgets/base",
            "_view_module_version": "1.2.0",
            "_view_name": "LayoutView",
            "align_content": null,
            "align_items": null,
            "align_self": null,
            "border": null,
            "bottom": null,
            "display": null,
            "flex": null,
            "flex_flow": null,
            "grid_area": null,
            "grid_auto_columns": null,
            "grid_auto_flow": null,
            "grid_auto_rows": null,
            "grid_column": null,
            "grid_gap": null,
            "grid_row": null,
            "grid_template_areas": null,
            "grid_template_columns": null,
            "grid_template_rows": null,
            "height": null,
            "justify_content": null,
            "justify_items": null,
            "left": null,
            "margin": null,
            "max_height": null,
            "max_width": null,
            "min_height": null,
            "min_width": null,
            "object_fit": null,
            "object_position": null,
            "order": null,
            "overflow": null,
            "overflow_x": null,
            "overflow_y": null,
            "padding": null,
            "right": null,
            "top": null,
            "visibility": null,
            "width": null
          }
        },
        "26af12f177ca41b8bbb64372c40ea8ff": {
          "model_module": "@jupyter-widgets/base",
          "model_name": "LayoutModel",
          "model_module_version": "1.2.0",
          "state": {
            "_model_module": "@jupyter-widgets/base",
            "_model_module_version": "1.2.0",
            "_model_name": "LayoutModel",
            "_view_count": null,
            "_view_module": "@jupyter-widgets/base",
            "_view_module_version": "1.2.0",
            "_view_name": "LayoutView",
            "align_content": null,
            "align_items": null,
            "align_self": null,
            "border": null,
            "bottom": null,
            "display": null,
            "flex": null,
            "flex_flow": null,
            "grid_area": null,
            "grid_auto_columns": null,
            "grid_auto_flow": null,
            "grid_auto_rows": null,
            "grid_column": null,
            "grid_gap": null,
            "grid_row": null,
            "grid_template_areas": null,
            "grid_template_columns": null,
            "grid_template_rows": null,
            "height": null,
            "justify_content": null,
            "justify_items": null,
            "left": null,
            "margin": null,
            "max_height": null,
            "max_width": null,
            "min_height": null,
            "min_width": null,
            "object_fit": null,
            "object_position": null,
            "order": null,
            "overflow": null,
            "overflow_x": null,
            "overflow_y": null,
            "padding": null,
            "right": null,
            "top": null,
            "visibility": null,
            "width": null
          }
        },
        "7b7c13546c704a61bf0d54c5b43bcbfe": {
          "model_module": "@jupyter-widgets/controls",
          "model_name": "DescriptionStyleModel",
          "model_module_version": "1.5.0",
          "state": {
            "_model_module": "@jupyter-widgets/controls",
            "_model_module_version": "1.5.0",
            "_model_name": "DescriptionStyleModel",
            "_view_count": null,
            "_view_module": "@jupyter-widgets/base",
            "_view_module_version": "1.2.0",
            "_view_name": "StyleView",
            "description_width": ""
          }
        },
        "634a30c5a24843b5be61c13dc41ea4bb": {
          "model_module": "@jupyter-widgets/base",
          "model_name": "LayoutModel",
          "model_module_version": "1.2.0",
          "state": {
            "_model_module": "@jupyter-widgets/base",
            "_model_module_version": "1.2.0",
            "_model_name": "LayoutModel",
            "_view_count": null,
            "_view_module": "@jupyter-widgets/base",
            "_view_module_version": "1.2.0",
            "_view_name": "LayoutView",
            "align_content": null,
            "align_items": null,
            "align_self": null,
            "border": null,
            "bottom": null,
            "display": null,
            "flex": null,
            "flex_flow": null,
            "grid_area": null,
            "grid_auto_columns": null,
            "grid_auto_flow": null,
            "grid_auto_rows": null,
            "grid_column": null,
            "grid_gap": null,
            "grid_row": null,
            "grid_template_areas": null,
            "grid_template_columns": null,
            "grid_template_rows": null,
            "height": null,
            "justify_content": null,
            "justify_items": null,
            "left": null,
            "margin": null,
            "max_height": null,
            "max_width": null,
            "min_height": null,
            "min_width": null,
            "object_fit": null,
            "object_position": null,
            "order": null,
            "overflow": null,
            "overflow_x": null,
            "overflow_y": null,
            "padding": null,
            "right": null,
            "top": null,
            "visibility": null,
            "width": null
          }
        },
        "ece1a97baed24f57b017e82bf3adfabc": {
          "model_module": "@jupyter-widgets/controls",
          "model_name": "ProgressStyleModel",
          "model_module_version": "1.5.0",
          "state": {
            "_model_module": "@jupyter-widgets/controls",
            "_model_module_version": "1.5.0",
            "_model_name": "ProgressStyleModel",
            "_view_count": null,
            "_view_module": "@jupyter-widgets/base",
            "_view_module_version": "1.2.0",
            "_view_name": "StyleView",
            "bar_color": null,
            "description_width": ""
          }
        },
        "8a8c3dfcfc4a4b1fa785d10b9b2ac400": {
          "model_module": "@jupyter-widgets/base",
          "model_name": "LayoutModel",
          "model_module_version": "1.2.0",
          "state": {
            "_model_module": "@jupyter-widgets/base",
            "_model_module_version": "1.2.0",
            "_model_name": "LayoutModel",
            "_view_count": null,
            "_view_module": "@jupyter-widgets/base",
            "_view_module_version": "1.2.0",
            "_view_name": "LayoutView",
            "align_content": null,
            "align_items": null,
            "align_self": null,
            "border": null,
            "bottom": null,
            "display": null,
            "flex": null,
            "flex_flow": null,
            "grid_area": null,
            "grid_auto_columns": null,
            "grid_auto_flow": null,
            "grid_auto_rows": null,
            "grid_column": null,
            "grid_gap": null,
            "grid_row": null,
            "grid_template_areas": null,
            "grid_template_columns": null,
            "grid_template_rows": null,
            "height": null,
            "justify_content": null,
            "justify_items": null,
            "left": null,
            "margin": null,
            "max_height": null,
            "max_width": null,
            "min_height": null,
            "min_width": null,
            "object_fit": null,
            "object_position": null,
            "order": null,
            "overflow": null,
            "overflow_x": null,
            "overflow_y": null,
            "padding": null,
            "right": null,
            "top": null,
            "visibility": null,
            "width": null
          }
        },
        "8142e0fc6026446c906e808b200266da": {
          "model_module": "@jupyter-widgets/controls",
          "model_name": "DescriptionStyleModel",
          "model_module_version": "1.5.0",
          "state": {
            "_model_module": "@jupyter-widgets/controls",
            "_model_module_version": "1.5.0",
            "_model_name": "DescriptionStyleModel",
            "_view_count": null,
            "_view_module": "@jupyter-widgets/base",
            "_view_module_version": "1.2.0",
            "_view_name": "StyleView",
            "description_width": ""
          }
        }
      }
    }
  },
  "cells": [
    {
      "cell_type": "markdown",
      "metadata": {
        "id": "view-in-github",
        "colab_type": "text"
      },
      "source": [
        "<a href=\"https://colab.research.google.com/github/patelmitesha/AI/blob/main/PdfRag.ipynb\" target=\"_parent\"><img src=\"https://colab.research.google.com/assets/colab-badge.svg\" alt=\"Open In Colab\"/></a>"
      ]
    },
    {
      "cell_type": "code",
      "execution_count": 1,
      "metadata": {
        "colab": {
          "base_uri": "https://localhost:8080/"
        },
        "id": "uHjAKXdrz8SM",
        "outputId": "11072c84-f898-4178-e987-1d052400a72a"
      },
      "outputs": [
        {
          "output_type": "stream",
          "name": "stdout",
          "text": [
            "Collecting unstructured\n",
            "  Downloading unstructured-0.16.17-py3-none-any.whl.metadata (24 kB)\n",
            "Requirement already satisfied: chardet in /usr/local/lib/python3.11/dist-packages (from unstructured) (5.2.0)\n",
            "Collecting filetype (from unstructured)\n",
            "  Downloading filetype-1.2.0-py2.py3-none-any.whl.metadata (6.5 kB)\n",
            "Collecting python-magic (from unstructured)\n",
            "  Downloading python_magic-0.4.27-py2.py3-none-any.whl.metadata (5.8 kB)\n",
            "Requirement already satisfied: lxml in /usr/local/lib/python3.11/dist-packages (from unstructured) (5.3.0)\n",
            "Requirement already satisfied: nltk in /usr/local/lib/python3.11/dist-packages (from unstructured) (3.9.1)\n",
            "Requirement already satisfied: requests in /usr/local/lib/python3.11/dist-packages (from unstructured) (2.32.3)\n",
            "Requirement already satisfied: beautifulsoup4 in /usr/local/lib/python3.11/dist-packages (from unstructured) (4.12.3)\n",
            "Collecting emoji (from unstructured)\n",
            "  Downloading emoji-2.14.1-py3-none-any.whl.metadata (5.7 kB)\n",
            "Collecting dataclasses-json (from unstructured)\n",
            "  Downloading dataclasses_json-0.6.7-py3-none-any.whl.metadata (25 kB)\n",
            "Collecting python-iso639 (from unstructured)\n",
            "  Downloading python_iso639-2025.1.28-py3-none-any.whl.metadata (13 kB)\n",
            "Collecting langdetect (from unstructured)\n",
            "  Downloading langdetect-1.0.9.tar.gz (981 kB)\n",
            "\u001b[2K     \u001b[90m━━━━━━━━━━━━━━━━━━━━━━━━━━━━━━━━━━━━━━━━\u001b[0m \u001b[32m981.5/981.5 kB\u001b[0m \u001b[31m15.2 MB/s\u001b[0m eta \u001b[36m0:00:00\u001b[0m\n",
            "\u001b[?25h  Preparing metadata (setup.py) ... \u001b[?25l\u001b[?25hdone\n",
            "Requirement already satisfied: numpy<2 in /usr/local/lib/python3.11/dist-packages (from unstructured) (1.26.4)\n",
            "Collecting rapidfuzz (from unstructured)\n",
            "  Downloading rapidfuzz-3.12.1-cp311-cp311-manylinux_2_17_x86_64.manylinux2014_x86_64.whl.metadata (11 kB)\n",
            "Collecting backoff (from unstructured)\n",
            "  Downloading backoff-2.2.1-py3-none-any.whl.metadata (14 kB)\n",
            "Requirement already satisfied: typing-extensions in /usr/local/lib/python3.11/dist-packages (from unstructured) (4.12.2)\n",
            "Collecting unstructured-client (from unstructured)\n",
            "  Downloading unstructured_client-0.29.0-py3-none-any.whl.metadata (20 kB)\n",
            "Requirement already satisfied: wrapt in /usr/local/lib/python3.11/dist-packages (from unstructured) (1.17.2)\n",
            "Requirement already satisfied: tqdm in /usr/local/lib/python3.11/dist-packages (from unstructured) (4.67.1)\n",
            "Requirement already satisfied: psutil in /usr/local/lib/python3.11/dist-packages (from unstructured) (5.9.5)\n",
            "Collecting python-oxmsg (from unstructured)\n",
            "  Downloading python_oxmsg-0.0.2-py3-none-any.whl.metadata (5.0 kB)\n",
            "Requirement already satisfied: html5lib in /usr/local/lib/python3.11/dist-packages (from unstructured) (1.1)\n",
            "Requirement already satisfied: soupsieve>1.2 in /usr/local/lib/python3.11/dist-packages (from beautifulsoup4->unstructured) (2.6)\n",
            "Collecting marshmallow<4.0.0,>=3.18.0 (from dataclasses-json->unstructured)\n",
            "  Downloading marshmallow-3.26.1-py3-none-any.whl.metadata (7.3 kB)\n",
            "Collecting typing-inspect<1,>=0.4.0 (from dataclasses-json->unstructured)\n",
            "  Downloading typing_inspect-0.9.0-py3-none-any.whl.metadata (1.5 kB)\n",
            "Requirement already satisfied: six>=1.9 in /usr/local/lib/python3.11/dist-packages (from html5lib->unstructured) (1.17.0)\n",
            "Requirement already satisfied: webencodings in /usr/local/lib/python3.11/dist-packages (from html5lib->unstructured) (0.5.1)\n",
            "Requirement already satisfied: click in /usr/local/lib/python3.11/dist-packages (from nltk->unstructured) (8.1.8)\n",
            "Requirement already satisfied: joblib in /usr/local/lib/python3.11/dist-packages (from nltk->unstructured) (1.4.2)\n",
            "Requirement already satisfied: regex>=2021.8.3 in /usr/local/lib/python3.11/dist-packages (from nltk->unstructured) (2024.11.6)\n",
            "Collecting olefile (from python-oxmsg->unstructured)\n",
            "  Downloading olefile-0.47-py2.py3-none-any.whl.metadata (9.7 kB)\n",
            "Requirement already satisfied: charset-normalizer<4,>=2 in /usr/local/lib/python3.11/dist-packages (from requests->unstructured) (3.4.1)\n",
            "Requirement already satisfied: idna<4,>=2.5 in /usr/local/lib/python3.11/dist-packages (from requests->unstructured) (3.10)\n",
            "Requirement already satisfied: urllib3<3,>=1.21.1 in /usr/local/lib/python3.11/dist-packages (from requests->unstructured) (2.3.0)\n",
            "Requirement already satisfied: certifi>=2017.4.17 in /usr/local/lib/python3.11/dist-packages (from requests->unstructured) (2024.12.14)\n",
            "Collecting aiofiles>=24.1.0 (from unstructured-client->unstructured)\n",
            "  Downloading aiofiles-24.1.0-py3-none-any.whl.metadata (10 kB)\n",
            "Requirement already satisfied: cryptography>=3.1 in /usr/local/lib/python3.11/dist-packages (from unstructured-client->unstructured) (43.0.3)\n",
            "Requirement already satisfied: eval-type-backport<0.3.0,>=0.2.0 in /usr/local/lib/python3.11/dist-packages (from unstructured-client->unstructured) (0.2.2)\n",
            "Requirement already satisfied: httpx>=0.27.0 in /usr/local/lib/python3.11/dist-packages (from unstructured-client->unstructured) (0.28.1)\n",
            "Collecting jsonpath-python<2.0.0,>=1.0.6 (from unstructured-client->unstructured)\n",
            "  Downloading jsonpath_python-1.0.6-py3-none-any.whl.metadata (12 kB)\n",
            "Requirement already satisfied: nest-asyncio>=1.6.0 in /usr/local/lib/python3.11/dist-packages (from unstructured-client->unstructured) (1.6.0)\n",
            "Requirement already satisfied: pydantic<2.11.0,>=2.10.3 in /usr/local/lib/python3.11/dist-packages (from unstructured-client->unstructured) (2.10.6)\n",
            "Collecting pypdf>=4.0 (from unstructured-client->unstructured)\n",
            "  Downloading pypdf-5.2.0-py3-none-any.whl.metadata (7.2 kB)\n",
            "Requirement already satisfied: python-dateutil<3.0.0,>=2.8.2 in /usr/local/lib/python3.11/dist-packages (from unstructured-client->unstructured) (2.8.2)\n",
            "Requirement already satisfied: requests-toolbelt>=1.0.0 in /usr/local/lib/python3.11/dist-packages (from unstructured-client->unstructured) (1.0.0)\n",
            "Requirement already satisfied: cffi>=1.12 in /usr/local/lib/python3.11/dist-packages (from cryptography>=3.1->unstructured-client->unstructured) (1.17.1)\n",
            "Requirement already satisfied: anyio in /usr/local/lib/python3.11/dist-packages (from httpx>=0.27.0->unstructured-client->unstructured) (3.7.1)\n",
            "Requirement already satisfied: httpcore==1.* in /usr/local/lib/python3.11/dist-packages (from httpx>=0.27.0->unstructured-client->unstructured) (1.0.7)\n",
            "Requirement already satisfied: h11<0.15,>=0.13 in /usr/local/lib/python3.11/dist-packages (from httpcore==1.*->httpx>=0.27.0->unstructured-client->unstructured) (0.14.0)\n",
            "Requirement already satisfied: packaging>=17.0 in /usr/local/lib/python3.11/dist-packages (from marshmallow<4.0.0,>=3.18.0->dataclasses-json->unstructured) (24.2)\n",
            "Requirement already satisfied: annotated-types>=0.6.0 in /usr/local/lib/python3.11/dist-packages (from pydantic<2.11.0,>=2.10.3->unstructured-client->unstructured) (0.7.0)\n",
            "Requirement already satisfied: pydantic-core==2.27.2 in /usr/local/lib/python3.11/dist-packages (from pydantic<2.11.0,>=2.10.3->unstructured-client->unstructured) (2.27.2)\n",
            "Collecting mypy-extensions>=0.3.0 (from typing-inspect<1,>=0.4.0->dataclasses-json->unstructured)\n",
            "  Downloading mypy_extensions-1.0.0-py3-none-any.whl.metadata (1.1 kB)\n",
            "Requirement already satisfied: pycparser in /usr/local/lib/python3.11/dist-packages (from cffi>=1.12->cryptography>=3.1->unstructured-client->unstructured) (2.22)\n",
            "Requirement already satisfied: sniffio>=1.1 in /usr/local/lib/python3.11/dist-packages (from anyio->httpx>=0.27.0->unstructured-client->unstructured) (1.3.1)\n",
            "Downloading unstructured-0.16.17-py3-none-any.whl (1.8 MB)\n",
            "\u001b[2K   \u001b[90m━━━━━━━━━━━━━━━━━━━━━━━━━━━━━━━━━━━━━━━━\u001b[0m \u001b[32m1.8/1.8 MB\u001b[0m \u001b[31m36.8 MB/s\u001b[0m eta \u001b[36m0:00:00\u001b[0m\n",
            "\u001b[?25hDownloading backoff-2.2.1-py3-none-any.whl (15 kB)\n",
            "Downloading dataclasses_json-0.6.7-py3-none-any.whl (28 kB)\n",
            "Downloading emoji-2.14.1-py3-none-any.whl (590 kB)\n",
            "\u001b[2K   \u001b[90m━━━━━━━━━━━━━━━━━━━━━━━━━━━━━━━━━━━━━━━━\u001b[0m \u001b[32m590.6/590.6 kB\u001b[0m \u001b[31m27.4 MB/s\u001b[0m eta \u001b[36m0:00:00\u001b[0m\n",
            "\u001b[?25hDownloading filetype-1.2.0-py2.py3-none-any.whl (19 kB)\n",
            "Downloading python_iso639-2025.1.28-py3-none-any.whl (166 kB)\n",
            "\u001b[2K   \u001b[90m━━━━━━━━━━━━━━━━━━━━━━━━━━━━━━━━━━━━━━━━\u001b[0m \u001b[32m166.8/166.8 kB\u001b[0m \u001b[31m11.0 MB/s\u001b[0m eta \u001b[36m0:00:00\u001b[0m\n",
            "\u001b[?25hDownloading python_magic-0.4.27-py2.py3-none-any.whl (13 kB)\n",
            "Downloading python_oxmsg-0.0.2-py3-none-any.whl (31 kB)\n",
            "Downloading rapidfuzz-3.12.1-cp311-cp311-manylinux_2_17_x86_64.manylinux2014_x86_64.whl (3.1 MB)\n",
            "\u001b[2K   \u001b[90m━━━━━━━━━━━━━━━━━━━━━━━━━━━━━━━━━━━━━━━━\u001b[0m \u001b[32m3.1/3.1 MB\u001b[0m \u001b[31m58.4 MB/s\u001b[0m eta \u001b[36m0:00:00\u001b[0m\n",
            "\u001b[?25hDownloading unstructured_client-0.29.0-py3-none-any.whl (63 kB)\n",
            "\u001b[2K   \u001b[90m━━━━━━━━━━━━━━━━━━━━━━━━━━━━━━━━━━━━━━━━\u001b[0m \u001b[32m63.6/63.6 kB\u001b[0m \u001b[31m4.3 MB/s\u001b[0m eta \u001b[36m0:00:00\u001b[0m\n",
            "\u001b[?25hDownloading aiofiles-24.1.0-py3-none-any.whl (15 kB)\n",
            "Downloading jsonpath_python-1.0.6-py3-none-any.whl (7.6 kB)\n",
            "Downloading marshmallow-3.26.1-py3-none-any.whl (50 kB)\n",
            "\u001b[2K   \u001b[90m━━━━━━━━━━━━━━━━━━━━━━━━━━━━━━━━━━━━━━━━\u001b[0m \u001b[32m50.9/50.9 kB\u001b[0m \u001b[31m3.2 MB/s\u001b[0m eta \u001b[36m0:00:00\u001b[0m\n",
            "\u001b[?25hDownloading pypdf-5.2.0-py3-none-any.whl (298 kB)\n",
            "\u001b[2K   \u001b[90m━━━━━━━━━━━━━━━━━━━━━━━━━━━━━━━━━━━━━━━━\u001b[0m \u001b[32m298.7/298.7 kB\u001b[0m \u001b[31m15.4 MB/s\u001b[0m eta \u001b[36m0:00:00\u001b[0m\n",
            "\u001b[?25hDownloading typing_inspect-0.9.0-py3-none-any.whl (8.8 kB)\n",
            "Downloading olefile-0.47-py2.py3-none-any.whl (114 kB)\n",
            "\u001b[2K   \u001b[90m━━━━━━━━━━━━━━━━━━━━━━━━━━━━━━━━━━━━━━━━\u001b[0m \u001b[32m114.6/114.6 kB\u001b[0m \u001b[31m7.1 MB/s\u001b[0m eta \u001b[36m0:00:00\u001b[0m\n",
            "\u001b[?25hDownloading mypy_extensions-1.0.0-py3-none-any.whl (4.7 kB)\n",
            "Building wheels for collected packages: langdetect\n",
            "  Building wheel for langdetect (setup.py) ... \u001b[?25l\u001b[?25hdone\n",
            "  Created wheel for langdetect: filename=langdetect-1.0.9-py3-none-any.whl size=993222 sha256=2e03b8fb872c4308af192a58a78b3255aefda8b0b713fed5c9da0054693b02d6\n",
            "  Stored in directory: /root/.cache/pip/wheels/0a/f2/b2/e5ca405801e05eb7c8ed5b3b4bcf1fcabcd6272c167640072e\n",
            "Successfully built langdetect\n",
            "Installing collected packages: filetype, rapidfuzz, python-magic, python-iso639, pypdf, olefile, mypy-extensions, marshmallow, langdetect, jsonpath-python, emoji, backoff, aiofiles, typing-inspect, python-oxmsg, unstructured-client, dataclasses-json, unstructured\n",
            "Successfully installed aiofiles-24.1.0 backoff-2.2.1 dataclasses-json-0.6.7 emoji-2.14.1 filetype-1.2.0 jsonpath-python-1.0.6 langdetect-1.0.9 marshmallow-3.26.1 mypy-extensions-1.0.0 olefile-0.47 pypdf-5.2.0 python-iso639-2025.1.28 python-magic-0.4.27 python-oxmsg-0.0.2 rapidfuzz-3.12.1 typing-inspect-0.9.0 unstructured-0.16.17 unstructured-client-0.29.0\n"
          ]
        }
      ],
      "source": [
        "!pip install unstructured"
      ]
    },
    {
      "cell_type": "code",
      "source": [
        "!pip install pdfminer"
      ],
      "metadata": {
        "colab": {
          "base_uri": "https://localhost:8080/"
        },
        "id": "z_6PYYiD1xA0",
        "outputId": "90c67cfd-33e2-44b9-904f-d44f37759a8e"
      },
      "execution_count": 3,
      "outputs": [
        {
          "output_type": "stream",
          "name": "stdout",
          "text": [
            "Collecting pdfminer\n",
            "  Downloading pdfminer-20191125.tar.gz (4.2 MB)\n",
            "\u001b[?25l     \u001b[90m━━━━━━━━━━━━━━━━━━━━━━━━━━━━━━━━━━━━━━━━\u001b[0m \u001b[32m0.0/4.2 MB\u001b[0m \u001b[31m?\u001b[0m eta \u001b[36m-:--:--\u001b[0m\r\u001b[2K     \u001b[91m━━━━━━━━━\u001b[0m\u001b[91m╸\u001b[0m\u001b[90m━━━━━━━━━━━━━━━━━━━━━━━━━━━━━━\u001b[0m \u001b[32m1.0/4.2 MB\u001b[0m \u001b[31m29.7 MB/s\u001b[0m eta \u001b[36m0:00:01\u001b[0m\r\u001b[2K     \u001b[91m━━━━━━━━━━━━━━━━━━━━━━━━━━━━━━━━━━━━━━━\u001b[0m\u001b[91m╸\u001b[0m \u001b[32m4.2/4.2 MB\u001b[0m \u001b[31m78.3 MB/s\u001b[0m eta \u001b[36m0:00:01\u001b[0m\r\u001b[2K     \u001b[90m━━━━━━━━━━━━━━━━━━━━━━━━━━━━━━━━━━━━━━━━\u001b[0m \u001b[32m4.2/4.2 MB\u001b[0m \u001b[31m52.9 MB/s\u001b[0m eta \u001b[36m0:00:00\u001b[0m\n",
            "\u001b[?25h  Preparing metadata (setup.py) ... \u001b[?25l\u001b[?25hdone\n",
            "Collecting pycryptodome (from pdfminer)\n",
            "  Downloading pycryptodome-3.21.0-cp36-abi3-manylinux_2_17_x86_64.manylinux2014_x86_64.whl.metadata (3.4 kB)\n",
            "Downloading pycryptodome-3.21.0-cp36-abi3-manylinux_2_17_x86_64.manylinux2014_x86_64.whl (2.3 MB)\n",
            "\u001b[2K   \u001b[90m━━━━━━━━━━━━━━━━━━━━━━━━━━━━━━━━━━━━━━━━\u001b[0m \u001b[32m2.3/2.3 MB\u001b[0m \u001b[31m53.6 MB/s\u001b[0m eta \u001b[36m0:00:00\u001b[0m\n",
            "\u001b[?25hBuilding wheels for collected packages: pdfminer\n",
            "  Building wheel for pdfminer (setup.py) ... \u001b[?25l\u001b[?25hdone\n",
            "  Created wheel for pdfminer: filename=pdfminer-20191125-py3-none-any.whl size=6140074 sha256=07edbd4dc4bfd5c864a8ccfd4da0832d14373389eb11c274e4e04334e6e6953c\n",
            "  Stored in directory: /root/.cache/pip/wheels/56/24/93/05316c6df89ff210a9a705060277e3acbfd2d1bd3a5853ee19\n",
            "Successfully built pdfminer\n",
            "Installing collected packages: pycryptodome, pdfminer\n",
            "Successfully installed pdfminer-20191125 pycryptodome-3.21.0\n"
          ]
        }
      ]
    },
    {
      "cell_type": "code",
      "source": [
        "!pip install pdfminer.six"
      ],
      "metadata": {
        "colab": {
          "base_uri": "https://localhost:8080/",
          "height": 307
        },
        "id": "HS4pNYVI2Ht2",
        "outputId": "ab40d797-c02d-426f-ca32-6d7afec65f11"
      },
      "execution_count": 6,
      "outputs": [
        {
          "output_type": "stream",
          "name": "stdout",
          "text": [
            "Collecting pdfminer.six\n",
            "  Downloading pdfminer.six-20240706-py3-none-any.whl.metadata (4.1 kB)\n",
            "Requirement already satisfied: charset-normalizer>=2.0.0 in /usr/local/lib/python3.11/dist-packages (from pdfminer.six) (3.4.1)\n",
            "Requirement already satisfied: cryptography>=36.0.0 in /usr/local/lib/python3.11/dist-packages (from pdfminer.six) (43.0.3)\n",
            "Requirement already satisfied: cffi>=1.12 in /usr/local/lib/python3.11/dist-packages (from cryptography>=36.0.0->pdfminer.six) (1.17.1)\n",
            "Requirement already satisfied: pycparser in /usr/local/lib/python3.11/dist-packages (from cffi>=1.12->cryptography>=36.0.0->pdfminer.six) (2.22)\n",
            "Downloading pdfminer.six-20240706-py3-none-any.whl (5.6 MB)\n",
            "\u001b[2K   \u001b[90m━━━━━━━━━━━━━━━━━━━━━━━━━━━━━━━━━━━━━━━━\u001b[0m \u001b[32m5.6/5.6 MB\u001b[0m \u001b[31m49.9 MB/s\u001b[0m eta \u001b[36m0:00:00\u001b[0m\n",
            "\u001b[?25hInstalling collected packages: pdfminer.six\n",
            "Successfully installed pdfminer.six-20240706\n"
          ]
        },
        {
          "output_type": "display_data",
          "data": {
            "application/vnd.colab-display-data+json": {
              "pip_warning": {
                "packages": [
                  "pdfminer"
                ]
              },
              "id": "6cca5d8e3c964d55a060a76422cefdf6"
            }
          },
          "metadata": {}
        }
      ]
    },
    {
      "cell_type": "code",
      "source": [
        "!pip install pi-heif"
      ],
      "metadata": {
        "colab": {
          "base_uri": "https://localhost:8080/"
        },
        "id": "QBsV-ISp2Wxq",
        "outputId": "9c3cd966-0fba-4fc8-a8d0-2153a2a2cbc5"
      },
      "execution_count": 2,
      "outputs": [
        {
          "output_type": "stream",
          "name": "stdout",
          "text": [
            "Collecting pi-heif\n",
            "  Downloading pi_heif-0.21.0-cp311-cp311-manylinux_2_17_x86_64.manylinux2014_x86_64.whl.metadata (6.5 kB)\n",
            "Requirement already satisfied: pillow>=10.1.0 in /usr/local/lib/python3.11/dist-packages (from pi-heif) (11.1.0)\n",
            "Downloading pi_heif-0.21.0-cp311-cp311-manylinux_2_17_x86_64.manylinux2014_x86_64.whl (1.2 MB)\n",
            "\u001b[?25l   \u001b[90m━━━━━━━━━━━━━━━━━━━━━━━━━━━━━━━━━━━━━━━━\u001b[0m \u001b[32m0.0/1.2 MB\u001b[0m \u001b[31m?\u001b[0m eta \u001b[36m-:--:--\u001b[0m\r\u001b[2K   \u001b[91m━━━━━━━━━━━━━\u001b[0m\u001b[90m╺\u001b[0m\u001b[90m━━━━━━━━━━━━━━━━━━━━━━━━━━\u001b[0m \u001b[32m0.4/1.2 MB\u001b[0m \u001b[31m11.3 MB/s\u001b[0m eta \u001b[36m0:00:01\u001b[0m\r\u001b[2K   \u001b[90m━━━━━━━━━━━━━━━━━━━━━━━━━━━━━━━━━━━━━━━━\u001b[0m \u001b[32m1.2/1.2 MB\u001b[0m \u001b[31m17.5 MB/s\u001b[0m eta \u001b[36m0:00:00\u001b[0m\n",
            "\u001b[?25hInstalling collected packages: pi-heif\n",
            "Successfully installed pi-heif-0.21.0\n"
          ]
        }
      ]
    },
    {
      "cell_type": "code",
      "source": [
        "!pip install \"unstructured[pdf,inference]\""
      ],
      "metadata": {
        "colab": {
          "base_uri": "https://localhost:8080/",
          "height": 1000
        },
        "id": "M6fA2HS72gQt",
        "outputId": "c0c290d0-e8d3-4b9e-d19a-029b26151298"
      },
      "execution_count": 7,
      "outputs": [
        {
          "output_type": "stream",
          "name": "stdout",
          "text": [
            "Requirement already satisfied: unstructured[inference,pdf] in /usr/local/lib/python3.11/dist-packages (0.16.17)\n",
            "\u001b[33mWARNING: unstructured 0.16.17 does not provide the extra 'inference'\u001b[0m\u001b[33m\n",
            "\u001b[0mRequirement already satisfied: chardet in /usr/local/lib/python3.11/dist-packages (from unstructured[inference,pdf]) (5.2.0)\n",
            "Requirement already satisfied: filetype in /usr/local/lib/python3.11/dist-packages (from unstructured[inference,pdf]) (1.2.0)\n",
            "Requirement already satisfied: python-magic in /usr/local/lib/python3.11/dist-packages (from unstructured[inference,pdf]) (0.4.27)\n",
            "Requirement already satisfied: lxml in /usr/local/lib/python3.11/dist-packages (from unstructured[inference,pdf]) (5.3.0)\n",
            "Requirement already satisfied: nltk in /usr/local/lib/python3.11/dist-packages (from unstructured[inference,pdf]) (3.9.1)\n",
            "Requirement already satisfied: requests in /usr/local/lib/python3.11/dist-packages (from unstructured[inference,pdf]) (2.32.3)\n",
            "Requirement already satisfied: beautifulsoup4 in /usr/local/lib/python3.11/dist-packages (from unstructured[inference,pdf]) (4.12.3)\n",
            "Requirement already satisfied: emoji in /usr/local/lib/python3.11/dist-packages (from unstructured[inference,pdf]) (2.14.1)\n",
            "Requirement already satisfied: dataclasses-json in /usr/local/lib/python3.11/dist-packages (from unstructured[inference,pdf]) (0.6.7)\n",
            "Requirement already satisfied: python-iso639 in /usr/local/lib/python3.11/dist-packages (from unstructured[inference,pdf]) (2025.1.28)\n",
            "Requirement already satisfied: langdetect in /usr/local/lib/python3.11/dist-packages (from unstructured[inference,pdf]) (1.0.9)\n",
            "Requirement already satisfied: numpy<2 in /usr/local/lib/python3.11/dist-packages (from unstructured[inference,pdf]) (1.26.4)\n",
            "Requirement already satisfied: rapidfuzz in /usr/local/lib/python3.11/dist-packages (from unstructured[inference,pdf]) (3.12.1)\n",
            "Requirement already satisfied: backoff in /usr/local/lib/python3.11/dist-packages (from unstructured[inference,pdf]) (2.2.1)\n",
            "Requirement already satisfied: typing-extensions in /usr/local/lib/python3.11/dist-packages (from unstructured[inference,pdf]) (4.12.2)\n",
            "Requirement already satisfied: unstructured-client in /usr/local/lib/python3.11/dist-packages (from unstructured[inference,pdf]) (0.29.0)\n",
            "Requirement already satisfied: wrapt in /usr/local/lib/python3.11/dist-packages (from unstructured[inference,pdf]) (1.17.2)\n",
            "Requirement already satisfied: tqdm in /usr/local/lib/python3.11/dist-packages (from unstructured[inference,pdf]) (4.67.1)\n",
            "Requirement already satisfied: psutil in /usr/local/lib/python3.11/dist-packages (from unstructured[inference,pdf]) (5.9.5)\n",
            "Requirement already satisfied: python-oxmsg in /usr/local/lib/python3.11/dist-packages (from unstructured[inference,pdf]) (0.0.2)\n",
            "Requirement already satisfied: html5lib in /usr/local/lib/python3.11/dist-packages (from unstructured[inference,pdf]) (1.1)\n",
            "Collecting onnx (from unstructured[inference,pdf])\n",
            "  Downloading onnx-1.17.0-cp311-cp311-manylinux_2_17_x86_64.manylinux2014_x86_64.whl.metadata (16 kB)\n",
            "Collecting pdf2image (from unstructured[inference,pdf])\n",
            "  Downloading pdf2image-1.17.0-py3-none-any.whl.metadata (6.2 kB)\n",
            "Requirement already satisfied: pdfminer.six in /usr/local/lib/python3.11/dist-packages (from unstructured[inference,pdf]) (20240706)\n",
            "Collecting pikepdf (from unstructured[inference,pdf])\n",
            "  Downloading pikepdf-9.5.1-cp311-cp311-manylinux_2_17_x86_64.manylinux2014_x86_64.whl.metadata (8.1 kB)\n",
            "Requirement already satisfied: pi-heif in /usr/local/lib/python3.11/dist-packages (from unstructured[inference,pdf]) (0.21.0)\n",
            "Requirement already satisfied: pypdf in /usr/local/lib/python3.11/dist-packages (from unstructured[inference,pdf]) (5.2.0)\n",
            "Collecting google-cloud-vision (from unstructured[inference,pdf])\n",
            "  Downloading google_cloud_vision-3.9.0-py2.py3-none-any.whl.metadata (5.3 kB)\n",
            "Collecting effdet (from unstructured[inference,pdf])\n",
            "  Downloading effdet-0.4.1-py3-none-any.whl.metadata (33 kB)\n",
            "Collecting unstructured-inference>=0.8.6 (from unstructured[inference,pdf])\n",
            "  Downloading unstructured_inference-0.8.6-py3-none-any.whl.metadata (5.3 kB)\n",
            "Collecting unstructured.pytesseract>=0.3.12 (from unstructured[inference,pdf])\n",
            "  Downloading unstructured.pytesseract-0.3.13-py3-none-any.whl.metadata (11 kB)\n",
            "Collecting python-multipart (from unstructured-inference>=0.8.6->unstructured[inference,pdf])\n",
            "  Downloading python_multipart-0.0.20-py3-none-any.whl.metadata (1.8 kB)\n",
            "Requirement already satisfied: huggingface-hub in /usr/local/lib/python3.11/dist-packages (from unstructured-inference>=0.8.6->unstructured[inference,pdf]) (0.27.1)\n",
            "Requirement already satisfied: opencv-python!=4.7.0.68 in /usr/local/lib/python3.11/dist-packages (from unstructured-inference>=0.8.6->unstructured[inference,pdf]) (4.10.0.84)\n",
            "Collecting onnxruntime>=1.17.0 (from unstructured-inference>=0.8.6->unstructured[inference,pdf])\n",
            "  Downloading onnxruntime-1.20.1-cp311-cp311-manylinux_2_27_x86_64.manylinux_2_28_x86_64.whl.metadata (4.5 kB)\n",
            "Requirement already satisfied: matplotlib in /usr/local/lib/python3.11/dist-packages (from unstructured-inference>=0.8.6->unstructured[inference,pdf]) (3.10.0)\n",
            "Requirement already satisfied: torch in /usr/local/lib/python3.11/dist-packages (from unstructured-inference>=0.8.6->unstructured[inference,pdf]) (2.5.1+cu124)\n",
            "Requirement already satisfied: timm in /usr/local/lib/python3.11/dist-packages (from unstructured-inference>=0.8.6->unstructured[inference,pdf]) (1.0.14)\n",
            "Requirement already satisfied: transformers>=4.25.1 in /usr/local/lib/python3.11/dist-packages (from unstructured-inference>=0.8.6->unstructured[inference,pdf]) (4.47.1)\n",
            "Requirement already satisfied: pandas in /usr/local/lib/python3.11/dist-packages (from unstructured-inference>=0.8.6->unstructured[inference,pdf]) (2.2.2)\n",
            "Requirement already satisfied: scipy in /usr/local/lib/python3.11/dist-packages (from unstructured-inference>=0.8.6->unstructured[inference,pdf]) (1.13.1)\n",
            "Collecting pypdfium2 (from unstructured-inference>=0.8.6->unstructured[inference,pdf])\n",
            "  Downloading pypdfium2-4.30.1-py3-none-manylinux_2_17_x86_64.manylinux2014_x86_64.whl.metadata (48 kB)\n",
            "\u001b[2K     \u001b[90m━━━━━━━━━━━━━━━━━━━━━━━━━━━━━━━━━━━━━━━━\u001b[0m \u001b[32m48.2/48.2 kB\u001b[0m \u001b[31m3.3 MB/s\u001b[0m eta \u001b[36m0:00:00\u001b[0m\n",
            "\u001b[?25hRequirement already satisfied: charset-normalizer>=2.0.0 in /usr/local/lib/python3.11/dist-packages (from pdfminer.six->unstructured[inference,pdf]) (3.4.1)\n",
            "Requirement already satisfied: cryptography>=36.0.0 in /usr/local/lib/python3.11/dist-packages (from pdfminer.six->unstructured[inference,pdf]) (43.0.3)\n",
            "Requirement already satisfied: packaging>=21.3 in /usr/local/lib/python3.11/dist-packages (from unstructured.pytesseract>=0.3.12->unstructured[inference,pdf]) (24.2)\n",
            "Requirement already satisfied: Pillow>=8.0.0 in /usr/local/lib/python3.11/dist-packages (from unstructured.pytesseract>=0.3.12->unstructured[inference,pdf]) (11.1.0)\n",
            "Requirement already satisfied: soupsieve>1.2 in /usr/local/lib/python3.11/dist-packages (from beautifulsoup4->unstructured[inference,pdf]) (2.6)\n",
            "Requirement already satisfied: marshmallow<4.0.0,>=3.18.0 in /usr/local/lib/python3.11/dist-packages (from dataclasses-json->unstructured[inference,pdf]) (3.26.1)\n",
            "Requirement already satisfied: typing-inspect<1,>=0.4.0 in /usr/local/lib/python3.11/dist-packages (from dataclasses-json->unstructured[inference,pdf]) (0.9.0)\n",
            "Requirement already satisfied: torchvision in /usr/local/lib/python3.11/dist-packages (from effdet->unstructured[inference,pdf]) (0.20.1+cu124)\n",
            "Requirement already satisfied: pycocotools>=2.0.2 in /usr/local/lib/python3.11/dist-packages (from effdet->unstructured[inference,pdf]) (2.0.8)\n",
            "Collecting omegaconf>=2.0 (from effdet->unstructured[inference,pdf])\n",
            "  Downloading omegaconf-2.3.0-py3-none-any.whl.metadata (3.9 kB)\n",
            "Requirement already satisfied: google-api-core!=2.0.*,!=2.1.*,!=2.10.*,!=2.2.*,!=2.3.*,!=2.4.*,!=2.5.*,!=2.6.*,!=2.7.*,!=2.8.*,!=2.9.*,<3.0.0dev,>=1.34.1 in /usr/local/lib/python3.11/dist-packages (from google-api-core[grpc]!=2.0.*,!=2.1.*,!=2.10.*,!=2.2.*,!=2.3.*,!=2.4.*,!=2.5.*,!=2.6.*,!=2.7.*,!=2.8.*,!=2.9.*,<3.0.0dev,>=1.34.1->google-cloud-vision->unstructured[inference,pdf]) (2.19.2)\n",
            "Requirement already satisfied: google-auth!=2.24.0,!=2.25.0,<3.0.0dev,>=2.14.1 in /usr/local/lib/python3.11/dist-packages (from google-cloud-vision->unstructured[inference,pdf]) (2.27.0)\n",
            "Requirement already satisfied: proto-plus<2.0.0dev,>=1.22.3 in /usr/local/lib/python3.11/dist-packages (from google-cloud-vision->unstructured[inference,pdf]) (1.26.0)\n",
            "Requirement already satisfied: protobuf!=4.21.0,!=4.21.1,!=4.21.2,!=4.21.3,!=4.21.4,!=4.21.5,<6.0.0dev,>=3.20.2 in /usr/local/lib/python3.11/dist-packages (from google-cloud-vision->unstructured[inference,pdf]) (4.25.6)\n",
            "Requirement already satisfied: six>=1.9 in /usr/local/lib/python3.11/dist-packages (from html5lib->unstructured[inference,pdf]) (1.17.0)\n",
            "Requirement already satisfied: webencodings in /usr/local/lib/python3.11/dist-packages (from html5lib->unstructured[inference,pdf]) (0.5.1)\n",
            "Requirement already satisfied: click in /usr/local/lib/python3.11/dist-packages (from nltk->unstructured[inference,pdf]) (8.1.8)\n",
            "Requirement already satisfied: joblib in /usr/local/lib/python3.11/dist-packages (from nltk->unstructured[inference,pdf]) (1.4.2)\n",
            "Requirement already satisfied: regex>=2021.8.3 in /usr/local/lib/python3.11/dist-packages (from nltk->unstructured[inference,pdf]) (2024.11.6)\n",
            "Requirement already satisfied: Deprecated in /usr/local/lib/python3.11/dist-packages (from pikepdf->unstructured[inference,pdf]) (1.2.18)\n",
            "Requirement already satisfied: olefile in /usr/local/lib/python3.11/dist-packages (from python-oxmsg->unstructured[inference,pdf]) (0.47)\n",
            "Requirement already satisfied: idna<4,>=2.5 in /usr/local/lib/python3.11/dist-packages (from requests->unstructured[inference,pdf]) (3.10)\n",
            "Requirement already satisfied: urllib3<3,>=1.21.1 in /usr/local/lib/python3.11/dist-packages (from requests->unstructured[inference,pdf]) (2.3.0)\n",
            "Requirement already satisfied: certifi>=2017.4.17 in /usr/local/lib/python3.11/dist-packages (from requests->unstructured[inference,pdf]) (2024.12.14)\n",
            "Requirement already satisfied: aiofiles>=24.1.0 in /usr/local/lib/python3.11/dist-packages (from unstructured-client->unstructured[inference,pdf]) (24.1.0)\n",
            "Requirement already satisfied: eval-type-backport<0.3.0,>=0.2.0 in /usr/local/lib/python3.11/dist-packages (from unstructured-client->unstructured[inference,pdf]) (0.2.2)\n",
            "Requirement already satisfied: httpx>=0.27.0 in /usr/local/lib/python3.11/dist-packages (from unstructured-client->unstructured[inference,pdf]) (0.28.1)\n",
            "Requirement already satisfied: jsonpath-python<2.0.0,>=1.0.6 in /usr/local/lib/python3.11/dist-packages (from unstructured-client->unstructured[inference,pdf]) (1.0.6)\n",
            "Requirement already satisfied: nest-asyncio>=1.6.0 in /usr/local/lib/python3.11/dist-packages (from unstructured-client->unstructured[inference,pdf]) (1.6.0)\n",
            "Requirement already satisfied: pydantic<2.11.0,>=2.10.3 in /usr/local/lib/python3.11/dist-packages (from unstructured-client->unstructured[inference,pdf]) (2.10.6)\n",
            "Requirement already satisfied: python-dateutil<3.0.0,>=2.8.2 in /usr/local/lib/python3.11/dist-packages (from unstructured-client->unstructured[inference,pdf]) (2.8.2)\n",
            "Requirement already satisfied: requests-toolbelt>=1.0.0 in /usr/local/lib/python3.11/dist-packages (from unstructured-client->unstructured[inference,pdf]) (1.0.0)\n",
            "Requirement already satisfied: cffi>=1.12 in /usr/local/lib/python3.11/dist-packages (from cryptography>=36.0.0->pdfminer.six->unstructured[inference,pdf]) (1.17.1)\n",
            "Requirement already satisfied: googleapis-common-protos<2.0.dev0,>=1.56.2 in /usr/local/lib/python3.11/dist-packages (from google-api-core!=2.0.*,!=2.1.*,!=2.10.*,!=2.2.*,!=2.3.*,!=2.4.*,!=2.5.*,!=2.6.*,!=2.7.*,!=2.8.*,!=2.9.*,<3.0.0dev,>=1.34.1->google-api-core[grpc]!=2.0.*,!=2.1.*,!=2.10.*,!=2.2.*,!=2.3.*,!=2.4.*,!=2.5.*,!=2.6.*,!=2.7.*,!=2.8.*,!=2.9.*,<3.0.0dev,>=1.34.1->google-cloud-vision->unstructured[inference,pdf]) (1.66.0)\n",
            "Requirement already satisfied: grpcio<2.0dev,>=1.33.2 in /usr/local/lib/python3.11/dist-packages (from google-api-core[grpc]!=2.0.*,!=2.1.*,!=2.10.*,!=2.2.*,!=2.3.*,!=2.4.*,!=2.5.*,!=2.6.*,!=2.7.*,!=2.8.*,!=2.9.*,<3.0.0dev,>=1.34.1->google-cloud-vision->unstructured[inference,pdf]) (1.70.0)\n",
            "Requirement already satisfied: grpcio-status<2.0.dev0,>=1.33.2 in /usr/local/lib/python3.11/dist-packages (from google-api-core[grpc]!=2.0.*,!=2.1.*,!=2.10.*,!=2.2.*,!=2.3.*,!=2.4.*,!=2.5.*,!=2.6.*,!=2.7.*,!=2.8.*,!=2.9.*,<3.0.0dev,>=1.34.1->google-cloud-vision->unstructured[inference,pdf]) (1.62.3)\n",
            "Requirement already satisfied: cachetools<6.0,>=2.0.0 in /usr/local/lib/python3.11/dist-packages (from google-auth!=2.24.0,!=2.25.0,<3.0.0dev,>=2.14.1->google-cloud-vision->unstructured[inference,pdf]) (5.5.1)\n",
            "Requirement already satisfied: pyasn1-modules>=0.2.1 in /usr/local/lib/python3.11/dist-packages (from google-auth!=2.24.0,!=2.25.0,<3.0.0dev,>=2.14.1->google-cloud-vision->unstructured[inference,pdf]) (0.4.1)\n",
            "Requirement already satisfied: rsa<5,>=3.1.4 in /usr/local/lib/python3.11/dist-packages (from google-auth!=2.24.0,!=2.25.0,<3.0.0dev,>=2.14.1->google-cloud-vision->unstructured[inference,pdf]) (4.9)\n",
            "Requirement already satisfied: anyio in /usr/local/lib/python3.11/dist-packages (from httpx>=0.27.0->unstructured-client->unstructured[inference,pdf]) (3.7.1)\n",
            "Requirement already satisfied: httpcore==1.* in /usr/local/lib/python3.11/dist-packages (from httpx>=0.27.0->unstructured-client->unstructured[inference,pdf]) (1.0.7)\n",
            "Requirement already satisfied: h11<0.15,>=0.13 in /usr/local/lib/python3.11/dist-packages (from httpcore==1.*->httpx>=0.27.0->unstructured-client->unstructured[inference,pdf]) (0.14.0)\n",
            "Collecting antlr4-python3-runtime==4.9.* (from omegaconf>=2.0->effdet->unstructured[inference,pdf])\n",
            "  Downloading antlr4-python3-runtime-4.9.3.tar.gz (117 kB)\n",
            "\u001b[2K     \u001b[90m━━━━━━━━━━━━━━━━━━━━━━━━━━━━━━━━━━━━━━━━\u001b[0m \u001b[32m117.0/117.0 kB\u001b[0m \u001b[31m5.5 MB/s\u001b[0m eta \u001b[36m0:00:00\u001b[0m\n",
            "\u001b[?25h  Preparing metadata (setup.py) ... \u001b[?25l\u001b[?25hdone\n",
            "Requirement already satisfied: PyYAML>=5.1.0 in /usr/local/lib/python3.11/dist-packages (from omegaconf>=2.0->effdet->unstructured[inference,pdf]) (6.0.2)\n",
            "Collecting coloredlogs (from onnxruntime>=1.17.0->unstructured-inference>=0.8.6->unstructured[inference,pdf])\n",
            "  Downloading coloredlogs-15.0.1-py2.py3-none-any.whl.metadata (12 kB)\n",
            "Requirement already satisfied: flatbuffers in /usr/local/lib/python3.11/dist-packages (from onnxruntime>=1.17.0->unstructured-inference>=0.8.6->unstructured[inference,pdf]) (25.1.24)\n",
            "Requirement already satisfied: sympy in /usr/local/lib/python3.11/dist-packages (from onnxruntime>=1.17.0->unstructured-inference>=0.8.6->unstructured[inference,pdf]) (1.13.1)\n",
            "Requirement already satisfied: contourpy>=1.0.1 in /usr/local/lib/python3.11/dist-packages (from matplotlib->unstructured-inference>=0.8.6->unstructured[inference,pdf]) (1.3.1)\n",
            "Requirement already satisfied: cycler>=0.10 in /usr/local/lib/python3.11/dist-packages (from matplotlib->unstructured-inference>=0.8.6->unstructured[inference,pdf]) (0.12.1)\n",
            "Requirement already satisfied: fonttools>=4.22.0 in /usr/local/lib/python3.11/dist-packages (from matplotlib->unstructured-inference>=0.8.6->unstructured[inference,pdf]) (4.55.7)\n",
            "Requirement already satisfied: kiwisolver>=1.3.1 in /usr/local/lib/python3.11/dist-packages (from matplotlib->unstructured-inference>=0.8.6->unstructured[inference,pdf]) (1.4.8)\n",
            "Requirement already satisfied: pyparsing>=2.3.1 in /usr/local/lib/python3.11/dist-packages (from matplotlib->unstructured-inference>=0.8.6->unstructured[inference,pdf]) (3.2.1)\n",
            "Requirement already satisfied: annotated-types>=0.6.0 in /usr/local/lib/python3.11/dist-packages (from pydantic<2.11.0,>=2.10.3->unstructured-client->unstructured[inference,pdf]) (0.7.0)\n",
            "Requirement already satisfied: pydantic-core==2.27.2 in /usr/local/lib/python3.11/dist-packages (from pydantic<2.11.0,>=2.10.3->unstructured-client->unstructured[inference,pdf]) (2.27.2)\n",
            "Requirement already satisfied: safetensors in /usr/local/lib/python3.11/dist-packages (from timm->unstructured-inference>=0.8.6->unstructured[inference,pdf]) (0.5.2)\n",
            "Requirement already satisfied: filelock in /usr/local/lib/python3.11/dist-packages (from torch->unstructured-inference>=0.8.6->unstructured[inference,pdf]) (3.17.0)\n",
            "Requirement already satisfied: networkx in /usr/local/lib/python3.11/dist-packages (from torch->unstructured-inference>=0.8.6->unstructured[inference,pdf]) (3.4.2)\n",
            "Requirement already satisfied: jinja2 in /usr/local/lib/python3.11/dist-packages (from torch->unstructured-inference>=0.8.6->unstructured[inference,pdf]) (3.1.5)\n",
            "Requirement already satisfied: fsspec in /usr/local/lib/python3.11/dist-packages (from torch->unstructured-inference>=0.8.6->unstructured[inference,pdf]) (2024.10.0)\n",
            "Collecting nvidia-cuda-nvrtc-cu12==12.4.127 (from torch->unstructured-inference>=0.8.6->unstructured[inference,pdf])\n",
            "  Downloading nvidia_cuda_nvrtc_cu12-12.4.127-py3-none-manylinux2014_x86_64.whl.metadata (1.5 kB)\n",
            "Collecting nvidia-cuda-runtime-cu12==12.4.127 (from torch->unstructured-inference>=0.8.6->unstructured[inference,pdf])\n",
            "  Downloading nvidia_cuda_runtime_cu12-12.4.127-py3-none-manylinux2014_x86_64.whl.metadata (1.5 kB)\n",
            "Collecting nvidia-cuda-cupti-cu12==12.4.127 (from torch->unstructured-inference>=0.8.6->unstructured[inference,pdf])\n",
            "  Downloading nvidia_cuda_cupti_cu12-12.4.127-py3-none-manylinux2014_x86_64.whl.metadata (1.6 kB)\n",
            "Collecting nvidia-cudnn-cu12==9.1.0.70 (from torch->unstructured-inference>=0.8.6->unstructured[inference,pdf])\n",
            "  Downloading nvidia_cudnn_cu12-9.1.0.70-py3-none-manylinux2014_x86_64.whl.metadata (1.6 kB)\n",
            "Collecting nvidia-cublas-cu12==12.4.5.8 (from torch->unstructured-inference>=0.8.6->unstructured[inference,pdf])\n",
            "  Downloading nvidia_cublas_cu12-12.4.5.8-py3-none-manylinux2014_x86_64.whl.metadata (1.5 kB)\n",
            "Collecting nvidia-cufft-cu12==11.2.1.3 (from torch->unstructured-inference>=0.8.6->unstructured[inference,pdf])\n",
            "  Downloading nvidia_cufft_cu12-11.2.1.3-py3-none-manylinux2014_x86_64.whl.metadata (1.5 kB)\n",
            "Collecting nvidia-curand-cu12==10.3.5.147 (from torch->unstructured-inference>=0.8.6->unstructured[inference,pdf])\n",
            "  Downloading nvidia_curand_cu12-10.3.5.147-py3-none-manylinux2014_x86_64.whl.metadata (1.5 kB)\n",
            "Collecting nvidia-cusolver-cu12==11.6.1.9 (from torch->unstructured-inference>=0.8.6->unstructured[inference,pdf])\n",
            "  Downloading nvidia_cusolver_cu12-11.6.1.9-py3-none-manylinux2014_x86_64.whl.metadata (1.6 kB)\n",
            "Collecting nvidia-cusparse-cu12==12.3.1.170 (from torch->unstructured-inference>=0.8.6->unstructured[inference,pdf])\n",
            "  Downloading nvidia_cusparse_cu12-12.3.1.170-py3-none-manylinux2014_x86_64.whl.metadata (1.6 kB)\n",
            "Requirement already satisfied: nvidia-nccl-cu12==2.21.5 in /usr/local/lib/python3.11/dist-packages (from torch->unstructured-inference>=0.8.6->unstructured[inference,pdf]) (2.21.5)\n",
            "Requirement already satisfied: nvidia-nvtx-cu12==12.4.127 in /usr/local/lib/python3.11/dist-packages (from torch->unstructured-inference>=0.8.6->unstructured[inference,pdf]) (12.4.127)\n",
            "Collecting nvidia-nvjitlink-cu12==12.4.127 (from torch->unstructured-inference>=0.8.6->unstructured[inference,pdf])\n",
            "  Downloading nvidia_nvjitlink_cu12-12.4.127-py3-none-manylinux2014_x86_64.whl.metadata (1.5 kB)\n",
            "Requirement already satisfied: triton==3.1.0 in /usr/local/lib/python3.11/dist-packages (from torch->unstructured-inference>=0.8.6->unstructured[inference,pdf]) (3.1.0)\n",
            "Requirement already satisfied: mpmath<1.4,>=1.1.0 in /usr/local/lib/python3.11/dist-packages (from sympy->onnxruntime>=1.17.0->unstructured-inference>=0.8.6->unstructured[inference,pdf]) (1.3.0)\n",
            "Requirement already satisfied: tokenizers<0.22,>=0.21 in /usr/local/lib/python3.11/dist-packages (from transformers>=4.25.1->unstructured-inference>=0.8.6->unstructured[inference,pdf]) (0.21.0)\n",
            "Requirement already satisfied: mypy-extensions>=0.3.0 in /usr/local/lib/python3.11/dist-packages (from typing-inspect<1,>=0.4.0->dataclasses-json->unstructured[inference,pdf]) (1.0.0)\n",
            "Requirement already satisfied: pytz>=2020.1 in /usr/local/lib/python3.11/dist-packages (from pandas->unstructured-inference>=0.8.6->unstructured[inference,pdf]) (2024.2)\n",
            "Requirement already satisfied: tzdata>=2022.7 in /usr/local/lib/python3.11/dist-packages (from pandas->unstructured-inference>=0.8.6->unstructured[inference,pdf]) (2025.1)\n",
            "Requirement already satisfied: pycparser in /usr/local/lib/python3.11/dist-packages (from cffi>=1.12->cryptography>=36.0.0->pdfminer.six->unstructured[inference,pdf]) (2.22)\n",
            "Requirement already satisfied: pyasn1<0.7.0,>=0.4.6 in /usr/local/lib/python3.11/dist-packages (from pyasn1-modules>=0.2.1->google-auth!=2.24.0,!=2.25.0,<3.0.0dev,>=2.14.1->google-cloud-vision->unstructured[inference,pdf]) (0.6.1)\n",
            "Requirement already satisfied: sniffio>=1.1 in /usr/local/lib/python3.11/dist-packages (from anyio->httpx>=0.27.0->unstructured-client->unstructured[inference,pdf]) (1.3.1)\n",
            "Collecting humanfriendly>=9.1 (from coloredlogs->onnxruntime>=1.17.0->unstructured-inference>=0.8.6->unstructured[inference,pdf])\n",
            "  Downloading humanfriendly-10.0-py2.py3-none-any.whl.metadata (9.2 kB)\n",
            "Requirement already satisfied: MarkupSafe>=2.0 in /usr/local/lib/python3.11/dist-packages (from jinja2->torch->unstructured-inference>=0.8.6->unstructured[inference,pdf]) (3.0.2)\n",
            "Downloading unstructured_inference-0.8.6-py3-none-any.whl (48 kB)\n",
            "\u001b[2K   \u001b[90m━━━━━━━━━━━━━━━━━━━━━━━━━━━━━━━━━━━━━━━━\u001b[0m \u001b[32m48.8/48.8 kB\u001b[0m \u001b[31m3.9 MB/s\u001b[0m eta \u001b[36m0:00:00\u001b[0m\n",
            "\u001b[?25hDownloading unstructured.pytesseract-0.3.13-py3-none-any.whl (14 kB)\n",
            "Downloading effdet-0.4.1-py3-none-any.whl (112 kB)\n",
            "\u001b[2K   \u001b[90m━━━━━━━━━━━━━━━━━━━━━━━━━━━━━━━━━━━━━━━━\u001b[0m \u001b[32m112.5/112.5 kB\u001b[0m \u001b[31m7.7 MB/s\u001b[0m eta \u001b[36m0:00:00\u001b[0m\n",
            "\u001b[?25hDownloading google_cloud_vision-3.9.0-py2.py3-none-any.whl (514 kB)\n",
            "\u001b[2K   \u001b[90m━━━━━━━━━━━━━━━━━━━━━━━━━━━━━━━━━━━━━━━━\u001b[0m \u001b[32m514.6/514.6 kB\u001b[0m \u001b[31m22.0 MB/s\u001b[0m eta \u001b[36m0:00:00\u001b[0m\n",
            "\u001b[?25hDownloading onnx-1.17.0-cp311-cp311-manylinux_2_17_x86_64.manylinux2014_x86_64.whl (16.0 MB)\n",
            "\u001b[2K   \u001b[90m━━━━━━━━━━━━━━━━━━━━━━━━━━━━━━━━━━━━━━━━\u001b[0m \u001b[32m16.0/16.0 MB\u001b[0m \u001b[31m66.2 MB/s\u001b[0m eta \u001b[36m0:00:00\u001b[0m\n",
            "\u001b[?25hDownloading pdf2image-1.17.0-py3-none-any.whl (11 kB)\n",
            "Downloading pikepdf-9.5.1-cp311-cp311-manylinux_2_17_x86_64.manylinux2014_x86_64.whl (2.4 MB)\n",
            "\u001b[2K   \u001b[90m━━━━━━━━━━━━━━━━━━━━━━━━━━━━━━━━━━━━━━━━\u001b[0m \u001b[32m2.4/2.4 MB\u001b[0m \u001b[31m48.6 MB/s\u001b[0m eta \u001b[36m0:00:00\u001b[0m\n",
            "\u001b[?25hDownloading omegaconf-2.3.0-py3-none-any.whl (79 kB)\n",
            "\u001b[2K   \u001b[90m━━━━━━━━━━━━━━━━━━━━━━━━━━━━━━━━━━━━━━━━\u001b[0m \u001b[32m79.5/79.5 kB\u001b[0m \u001b[31m5.7 MB/s\u001b[0m eta \u001b[36m0:00:00\u001b[0m\n",
            "\u001b[?25hDownloading onnxruntime-1.20.1-cp311-cp311-manylinux_2_27_x86_64.manylinux_2_28_x86_64.whl (13.3 MB)\n",
            "\u001b[2K   \u001b[90m━━━━━━━━━━━━━━━━━━━━━━━━━━━━━━━━━━━━━━━━\u001b[0m \u001b[32m13.3/13.3 MB\u001b[0m \u001b[31m64.0 MB/s\u001b[0m eta \u001b[36m0:00:00\u001b[0m\n",
            "\u001b[?25hDownloading nvidia_cublas_cu12-12.4.5.8-py3-none-manylinux2014_x86_64.whl (363.4 MB)\n",
            "\u001b[2K   \u001b[90m━━━━━━━━━━━━━━━━━━━━━━━━━━━━━━━━━━━━━━━━\u001b[0m \u001b[32m363.4/363.4 MB\u001b[0m \u001b[31m4.6 MB/s\u001b[0m eta \u001b[36m0:00:00\u001b[0m\n",
            "\u001b[?25hDownloading nvidia_cuda_cupti_cu12-12.4.127-py3-none-manylinux2014_x86_64.whl (13.8 MB)\n",
            "\u001b[2K   \u001b[90m━━━━━━━━━━━━━━━━━━━━━━━━━━━━━━━━━━━━━━━━\u001b[0m \u001b[32m13.8/13.8 MB\u001b[0m \u001b[31m55.5 MB/s\u001b[0m eta \u001b[36m0:00:00\u001b[0m\n",
            "\u001b[?25hDownloading nvidia_cuda_nvrtc_cu12-12.4.127-py3-none-manylinux2014_x86_64.whl (24.6 MB)\n",
            "\u001b[2K   \u001b[90m━━━━━━━━━━━━━━━━━━━━━━━━━━━━━━━━━━━━━━━━\u001b[0m \u001b[32m24.6/24.6 MB\u001b[0m \u001b[31m31.6 MB/s\u001b[0m eta \u001b[36m0:00:00\u001b[0m\n",
            "\u001b[?25hDownloading nvidia_cuda_runtime_cu12-12.4.127-py3-none-manylinux2014_x86_64.whl (883 kB)\n",
            "\u001b[2K   \u001b[90m━━━━━━━━━━━━━━━━━━━━━━━━━━━━━━━━━━━━━━━━\u001b[0m \u001b[32m883.7/883.7 kB\u001b[0m \u001b[31m36.5 MB/s\u001b[0m eta \u001b[36m0:00:00\u001b[0m\n",
            "\u001b[?25hDownloading nvidia_cudnn_cu12-9.1.0.70-py3-none-manylinux2014_x86_64.whl (664.8 MB)\n",
            "\u001b[2K   \u001b[90m━━━━━━━━━━━━━━━━━━━━━━━━━━━━━━━━━━━━━━━━\u001b[0m \u001b[32m664.8/664.8 MB\u001b[0m \u001b[31m2.7 MB/s\u001b[0m eta \u001b[36m0:00:00\u001b[0m\n",
            "\u001b[?25hDownloading nvidia_cufft_cu12-11.2.1.3-py3-none-manylinux2014_x86_64.whl (211.5 MB)\n",
            "\u001b[2K   \u001b[90m━━━━━━━━━━━━━━━━━━━━━━━━━━━━━━━━━━━━━━━━\u001b[0m \u001b[32m211.5/211.5 MB\u001b[0m \u001b[31m5.6 MB/s\u001b[0m eta \u001b[36m0:00:00\u001b[0m\n",
            "\u001b[?25hDownloading nvidia_curand_cu12-10.3.5.147-py3-none-manylinux2014_x86_64.whl (56.3 MB)\n",
            "\u001b[2K   \u001b[90m━━━━━━━━━━━━━━━━━━━━━━━━━━━━━━━━━━━━━━━━\u001b[0m \u001b[32m56.3/56.3 MB\u001b[0m \u001b[31m16.6 MB/s\u001b[0m eta \u001b[36m0:00:00\u001b[0m\n",
            "\u001b[?25hDownloading nvidia_cusolver_cu12-11.6.1.9-py3-none-manylinux2014_x86_64.whl (127.9 MB)\n",
            "\u001b[2K   \u001b[90m━━━━━━━━━━━━━━━━━━━━━━━━━━━━━━━━━━━━━━━━\u001b[0m \u001b[32m127.9/127.9 MB\u001b[0m \u001b[31m9.7 MB/s\u001b[0m eta \u001b[36m0:00:00\u001b[0m\n",
            "\u001b[?25hDownloading nvidia_cusparse_cu12-12.3.1.170-py3-none-manylinux2014_x86_64.whl (207.5 MB)\n",
            "\u001b[2K   \u001b[90m━━━━━━━━━━━━━━━━━━━━━━━━━━━━━━━━━━━━━━━━\u001b[0m \u001b[32m207.5/207.5 MB\u001b[0m \u001b[31m3.8 MB/s\u001b[0m eta \u001b[36m0:00:00\u001b[0m\n",
            "\u001b[?25hDownloading nvidia_nvjitlink_cu12-12.4.127-py3-none-manylinux2014_x86_64.whl (21.1 MB)\n",
            "\u001b[2K   \u001b[90m━━━━━━━━━━━━━━━━━━━━━━━━━━━━━━━━━━━━━━━━\u001b[0m \u001b[32m21.1/21.1 MB\u001b[0m \u001b[31m59.0 MB/s\u001b[0m eta \u001b[36m0:00:00\u001b[0m\n",
            "\u001b[?25hDownloading pypdfium2-4.30.1-py3-none-manylinux_2_17_x86_64.manylinux2014_x86_64.whl (2.9 MB)\n",
            "\u001b[2K   \u001b[90m━━━━━━━━━━━━━━━━━━━━━━━━━━━━━━━━━━━━━━━━\u001b[0m \u001b[32m2.9/2.9 MB\u001b[0m \u001b[31m42.8 MB/s\u001b[0m eta \u001b[36m0:00:00\u001b[0m\n",
            "\u001b[?25hDownloading python_multipart-0.0.20-py3-none-any.whl (24 kB)\n",
            "Downloading coloredlogs-15.0.1-py2.py3-none-any.whl (46 kB)\n",
            "\u001b[2K   \u001b[90m━━━━━━━━━━━━━━━━━━━━━━━━━━━━━━━━━━━━━━━━\u001b[0m \u001b[32m46.0/46.0 kB\u001b[0m \u001b[31m3.2 MB/s\u001b[0m eta \u001b[36m0:00:00\u001b[0m\n",
            "\u001b[?25hDownloading humanfriendly-10.0-py2.py3-none-any.whl (86 kB)\n",
            "\u001b[2K   \u001b[90m━━━━━━━━━━━━━━━━━━━━━━━━━━━━━━━━━━━━━━━━\u001b[0m \u001b[32m86.8/86.8 kB\u001b[0m \u001b[31m6.5 MB/s\u001b[0m eta \u001b[36m0:00:00\u001b[0m\n",
            "\u001b[?25hBuilding wheels for collected packages: antlr4-python3-runtime\n",
            "  Building wheel for antlr4-python3-runtime (setup.py) ... \u001b[?25l\u001b[?25hdone\n",
            "  Created wheel for antlr4-python3-runtime: filename=antlr4_python3_runtime-4.9.3-py3-none-any.whl size=144555 sha256=3b65d0456950f46a500b102661bf27dd5b3055e79e49bdb0ae61a9d80be40a28\n",
            "  Stored in directory: /root/.cache/pip/wheels/1a/97/32/461f837398029ad76911109f07047fde1d7b661a147c7c56d1\n",
            "Successfully built antlr4-python3-runtime\n",
            "Installing collected packages: antlr4-python3-runtime, unstructured.pytesseract, python-multipart, pypdfium2, pdf2image, onnx, omegaconf, nvidia-nvjitlink-cu12, nvidia-curand-cu12, nvidia-cufft-cu12, nvidia-cuda-runtime-cu12, nvidia-cuda-nvrtc-cu12, nvidia-cuda-cupti-cu12, nvidia-cublas-cu12, humanfriendly, pikepdf, nvidia-cusparse-cu12, nvidia-cudnn-cu12, coloredlogs, onnxruntime, nvidia-cusolver-cu12, google-cloud-vision, unstructured-inference, effdet\n",
            "  Attempting uninstall: nvidia-nvjitlink-cu12\n",
            "    Found existing installation: nvidia-nvjitlink-cu12 12.5.82\n",
            "    Uninstalling nvidia-nvjitlink-cu12-12.5.82:\n",
            "      Successfully uninstalled nvidia-nvjitlink-cu12-12.5.82\n",
            "  Attempting uninstall: nvidia-curand-cu12\n",
            "    Found existing installation: nvidia-curand-cu12 10.3.6.82\n",
            "    Uninstalling nvidia-curand-cu12-10.3.6.82:\n",
            "      Successfully uninstalled nvidia-curand-cu12-10.3.6.82\n",
            "  Attempting uninstall: nvidia-cufft-cu12\n",
            "    Found existing installation: nvidia-cufft-cu12 11.2.3.61\n",
            "    Uninstalling nvidia-cufft-cu12-11.2.3.61:\n",
            "      Successfully uninstalled nvidia-cufft-cu12-11.2.3.61\n",
            "  Attempting uninstall: nvidia-cuda-runtime-cu12\n",
            "    Found existing installation: nvidia-cuda-runtime-cu12 12.5.82\n",
            "    Uninstalling nvidia-cuda-runtime-cu12-12.5.82:\n",
            "      Successfully uninstalled nvidia-cuda-runtime-cu12-12.5.82\n",
            "  Attempting uninstall: nvidia-cuda-nvrtc-cu12\n",
            "    Found existing installation: nvidia-cuda-nvrtc-cu12 12.5.82\n",
            "    Uninstalling nvidia-cuda-nvrtc-cu12-12.5.82:\n",
            "      Successfully uninstalled nvidia-cuda-nvrtc-cu12-12.5.82\n",
            "  Attempting uninstall: nvidia-cuda-cupti-cu12\n",
            "    Found existing installation: nvidia-cuda-cupti-cu12 12.5.82\n",
            "    Uninstalling nvidia-cuda-cupti-cu12-12.5.82:\n",
            "      Successfully uninstalled nvidia-cuda-cupti-cu12-12.5.82\n",
            "  Attempting uninstall: nvidia-cublas-cu12\n",
            "    Found existing installation: nvidia-cublas-cu12 12.5.3.2\n",
            "    Uninstalling nvidia-cublas-cu12-12.5.3.2:\n",
            "      Successfully uninstalled nvidia-cublas-cu12-12.5.3.2\n",
            "  Attempting uninstall: nvidia-cusparse-cu12\n",
            "    Found existing installation: nvidia-cusparse-cu12 12.5.1.3\n",
            "    Uninstalling nvidia-cusparse-cu12-12.5.1.3:\n",
            "      Successfully uninstalled nvidia-cusparse-cu12-12.5.1.3\n",
            "  Attempting uninstall: nvidia-cudnn-cu12\n",
            "    Found existing installation: nvidia-cudnn-cu12 9.3.0.75\n",
            "    Uninstalling nvidia-cudnn-cu12-9.3.0.75:\n",
            "      Successfully uninstalled nvidia-cudnn-cu12-9.3.0.75\n",
            "  Attempting uninstall: nvidia-cusolver-cu12\n",
            "    Found existing installation: nvidia-cusolver-cu12 11.6.3.83\n",
            "    Uninstalling nvidia-cusolver-cu12-11.6.3.83:\n",
            "      Successfully uninstalled nvidia-cusolver-cu12-11.6.3.83\n",
            "Successfully installed antlr4-python3-runtime-4.9.3 coloredlogs-15.0.1 effdet-0.4.1 google-cloud-vision-3.9.0 humanfriendly-10.0 nvidia-cublas-cu12-12.4.5.8 nvidia-cuda-cupti-cu12-12.4.127 nvidia-cuda-nvrtc-cu12-12.4.127 nvidia-cuda-runtime-cu12-12.4.127 nvidia-cudnn-cu12-9.1.0.70 nvidia-cufft-cu12-11.2.1.3 nvidia-curand-cu12-10.3.5.147 nvidia-cusolver-cu12-11.6.1.9 nvidia-cusparse-cu12-12.3.1.170 nvidia-nvjitlink-cu12-12.4.127 omegaconf-2.3.0 onnx-1.17.0 onnxruntime-1.20.1 pdf2image-1.17.0 pikepdf-9.5.1 pypdfium2-4.30.1 python-multipart-0.0.20 unstructured-inference-0.8.6 unstructured.pytesseract-0.3.13\n"
          ]
        },
        {
          "output_type": "display_data",
          "data": {
            "application/vnd.colab-display-data+json": {
              "pip_warning": {
                "packages": [
                  "google",
                  "pydevd_plugins"
                ]
              },
              "id": "ac0c4dedd314410f8a6c4e20e296922d"
            }
          },
          "metadata": {}
        }
      ]
    },
    {
      "cell_type": "code",
      "source": [
        "!apt-get install poppler-utils"
      ],
      "metadata": {
        "colab": {
          "base_uri": "https://localhost:8080/"
        },
        "id": "ajKmdrGB4BPG",
        "outputId": "99d418f4-cb83-40d0-937d-62ac62285308"
      },
      "execution_count": 4,
      "outputs": [
        {
          "output_type": "stream",
          "name": "stdout",
          "text": [
            "Reading package lists... Done\n",
            "Building dependency tree... Done\n",
            "Reading state information... Done\n",
            "The following NEW packages will be installed:\n",
            "  poppler-utils\n",
            "0 upgraded, 1 newly installed, 0 to remove and 18 not upgraded.\n",
            "Need to get 186 kB of archives.\n",
            "After this operation, 696 kB of additional disk space will be used.\n",
            "Get:1 http://archive.ubuntu.com/ubuntu jammy-updates/main amd64 poppler-utils amd64 22.02.0-2ubuntu0.6 [186 kB]\n",
            "Fetched 186 kB in 1s (319 kB/s)\n",
            "Selecting previously unselected package poppler-utils.\n",
            "(Reading database ... 124950 files and directories currently installed.)\n",
            "Preparing to unpack .../poppler-utils_22.02.0-2ubuntu0.6_amd64.deb ...\n",
            "Unpacking poppler-utils (22.02.0-2ubuntu0.6) ...\n",
            "Setting up poppler-utils (22.02.0-2ubuntu0.6) ...\n",
            "Processing triggers for man-db (2.10.2-1) ...\n"
          ]
        }
      ]
    },
    {
      "cell_type": "code",
      "source": [
        "!apt-get install tesseract-ocr\n",
        "!apt-get install libtesseract-dev"
      ],
      "metadata": {
        "colab": {
          "base_uri": "https://localhost:8080/"
        },
        "id": "WtgxuvY14Wp5",
        "outputId": "e8ca19c4-f9e5-4750-e7c7-7f8aa3f10853"
      },
      "execution_count": 8,
      "outputs": [
        {
          "output_type": "stream",
          "name": "stdout",
          "text": [
            "Reading package lists... Done\n",
            "Building dependency tree... Done\n",
            "Reading state information... Done\n",
            "The following additional packages will be installed:\n",
            "  tesseract-ocr-eng tesseract-ocr-osd\n",
            "The following NEW packages will be installed:\n",
            "  tesseract-ocr tesseract-ocr-eng tesseract-ocr-osd\n",
            "0 upgraded, 3 newly installed, 0 to remove and 18 not upgraded.\n",
            "Need to get 4,816 kB of archives.\n",
            "After this operation, 15.6 MB of additional disk space will be used.\n",
            "Get:1 http://archive.ubuntu.com/ubuntu jammy/universe amd64 tesseract-ocr-eng all 1:4.00~git30-7274cfa-1.1 [1,591 kB]\n",
            "Get:2 http://archive.ubuntu.com/ubuntu jammy/universe amd64 tesseract-ocr-osd all 1:4.00~git30-7274cfa-1.1 [2,990 kB]\n",
            "Get:3 http://archive.ubuntu.com/ubuntu jammy/universe amd64 tesseract-ocr amd64 4.1.1-2.1build1 [236 kB]\n",
            "Fetched 4,816 kB in 2s (2,777 kB/s)\n",
            "Selecting previously unselected package tesseract-ocr-eng.\n",
            "(Reading database ... 124980 files and directories currently installed.)\n",
            "Preparing to unpack .../tesseract-ocr-eng_1%3a4.00~git30-7274cfa-1.1_all.deb ...\n",
            "Unpacking tesseract-ocr-eng (1:4.00~git30-7274cfa-1.1) ...\n",
            "Selecting previously unselected package tesseract-ocr-osd.\n",
            "Preparing to unpack .../tesseract-ocr-osd_1%3a4.00~git30-7274cfa-1.1_all.deb ...\n",
            "Unpacking tesseract-ocr-osd (1:4.00~git30-7274cfa-1.1) ...\n",
            "Selecting previously unselected package tesseract-ocr.\n",
            "Preparing to unpack .../tesseract-ocr_4.1.1-2.1build1_amd64.deb ...\n",
            "Unpacking tesseract-ocr (4.1.1-2.1build1) ...\n",
            "Setting up tesseract-ocr-eng (1:4.00~git30-7274cfa-1.1) ...\n",
            "Setting up tesseract-ocr-osd (1:4.00~git30-7274cfa-1.1) ...\n",
            "Setting up tesseract-ocr (4.1.1-2.1build1) ...\n",
            "Processing triggers for man-db (2.10.2-1) ...\n",
            "Reading package lists... Done\n",
            "Building dependency tree... Done\n",
            "Reading state information... Done\n",
            "The following additional packages will be installed:\n",
            "  libarchive-dev libleptonica-dev\n",
            "The following NEW packages will be installed:\n",
            "  libarchive-dev libleptonica-dev libtesseract-dev\n",
            "0 upgraded, 3 newly installed, 0 to remove and 18 not upgraded.\n",
            "Need to get 3,743 kB of archives.\n",
            "After this operation, 16.0 MB of additional disk space will be used.\n",
            "Get:1 http://archive.ubuntu.com/ubuntu jammy-updates/main amd64 libarchive-dev amd64 3.6.0-1ubuntu1.3 [581 kB]\n",
            "Get:2 http://archive.ubuntu.com/ubuntu jammy/universe amd64 libleptonica-dev amd64 1.82.0-3build1 [1,562 kB]\n",
            "Get:3 http://archive.ubuntu.com/ubuntu jammy/universe amd64 libtesseract-dev amd64 4.1.1-2.1build1 [1,600 kB]\n",
            "Fetched 3,743 kB in 2s (2,274 kB/s)\n",
            "Selecting previously unselected package libarchive-dev:amd64.\n",
            "(Reading database ... 125027 files and directories currently installed.)\n",
            "Preparing to unpack .../libarchive-dev_3.6.0-1ubuntu1.3_amd64.deb ...\n",
            "Unpacking libarchive-dev:amd64 (3.6.0-1ubuntu1.3) ...\n",
            "Selecting previously unselected package libleptonica-dev.\n",
            "Preparing to unpack .../libleptonica-dev_1.82.0-3build1_amd64.deb ...\n",
            "Unpacking libleptonica-dev (1.82.0-3build1) ...\n",
            "Selecting previously unselected package libtesseract-dev:amd64.\n",
            "Preparing to unpack .../libtesseract-dev_4.1.1-2.1build1_amd64.deb ...\n",
            "Unpacking libtesseract-dev:amd64 (4.1.1-2.1build1) ...\n",
            "Setting up libleptonica-dev (1.82.0-3build1) ...\n",
            "Setting up libarchive-dev:amd64 (3.6.0-1ubuntu1.3) ...\n",
            "Setting up libtesseract-dev:amd64 (4.1.1-2.1build1) ...\n",
            "Processing triggers for man-db (2.10.2-1) ...\n"
          ]
        }
      ]
    },
    {
      "cell_type": "code",
      "source": [
        "from unstructured.partition.pdf import partition_pdf"
      ],
      "metadata": {
        "id": "izYC_fly1gZS"
      },
      "execution_count": 1,
      "outputs": []
    },
    {
      "cell_type": "code",
      "source": [
        "# Reference: https://docs.unstructured.io/open-source/core-functionality/chunking\n",
        "chunks = partition_pdf(\n",
        "    filename=\"/content/OfficeOrder.pdf\",\n",
        "    infer_table_structure=True,            # extract tables\n",
        "    strategy=\"hi_res\",                     # mandatory to infer tables\n",
        "\n",
        "    extract_image_block_types=[\"Image\"],   # Add 'Table' to list to extract image of tables\n",
        "    # image_output_dir_path=output_path,   # if None, images and tables will saved in base64\n",
        "\n",
        "    extract_image_block_to_payload=True,   # if true, will extract base64 for API usage\n",
        "\n",
        "    chunking_strategy=\"by_title\",          # or 'basic'\n",
        "    max_characters=10000,                  # defaults to 500\n",
        "    combine_text_under_n_chars=2000,       # defaults to 0\n",
        "    new_after_n_chars=6000,\n",
        "\n",
        "    # extract_images_in_pdf=True,          # deprecated\n",
        ")"
      ],
      "metadata": {
        "colab": {
          "base_uri": "https://localhost:8080/",
          "height": 182,
          "referenced_widgets": [
            "dca63aeef79348cfa17538845ec4a235",
            "ef05d75558674887be1778feaca4d0be",
            "a3bdc9580dd848818d25e5df5d1bea2e",
            "c54b0d3fefdf4d6a836da6791a4fad1d",
            "475f5a27380042479f48dc12eea1a288",
            "59efa6ee561b4b6cb9c3a4e43ce36853",
            "bbe00641f2c94d329c9be2154c89f87a",
            "20fd46d285e64d0bab7feb923790cca6",
            "f560cc9288be4884abd2e22825ff9ae6",
            "e442c63313f44e3688f045c36e30fe4d",
            "a302c9810bda4a7faab8e09658aeaf2e",
            "35bc74534b5e4a8aa300f39708be31c8",
            "aa0b67cf65fb4538ad7d7221876c6d01",
            "eb8c31bba8444d2e9e844006960d0732",
            "8a7ebdf5363c4b1698935d76a06de6d9",
            "9574f9c8990844ed8cf9391ba84ee4d0",
            "9c319d0fe6d64486b5d26ef6bec4eb0f",
            "20c93b13b7494eb6a1a809f9131b7923",
            "6fecddc2efbf484485f14166bd062bb2",
            "d3be09649afd44cb96918d94ba43be24",
            "6d4f389fab3946298ea1d9f163a4937a",
            "e65ceb791e2f491783f6b83bc539baa7",
            "dfc4f2145555439880a78eb088dda94d",
            "ad427090b9334322b34b831a74e5e469",
            "3ff3cdcdd8634363bafd42d2079c6a48",
            "af5f1c777af047dfb4f83abea4dcbdd8",
            "dd7f4f82be6c49769751de5ffeea4122",
            "3b4221d195754cba992bb8d107c35f63",
            "7be1b9fe0413402f88b13c1a6645f3c2",
            "83f524f4f9b046d79ba7b1b721ac20d5",
            "c9be6705f457426d9d4042a603066ad0",
            "ee3330f84e0047f498358409cba07c75",
            "31eb99ba00d84cc483ca14c4eb28eec2",
            "4883513339094fb2b2412eed970f4af4",
            "be6a8a6832c54ae78a382e06bee1cc3d",
            "4cb7ff3227d94648a77c240eb1f3f5f5",
            "1e51bdd3730b4112baa30d0208e2bb5a",
            "8963985d887245ce94b31bd619fd5a84",
            "26af12f177ca41b8bbb64372c40ea8ff",
            "7b7c13546c704a61bf0d54c5b43bcbfe",
            "634a30c5a24843b5be61c13dc41ea4bb",
            "ece1a97baed24f57b017e82bf3adfabc",
            "8a8c3dfcfc4a4b1fa785d10b9b2ac400",
            "8142e0fc6026446c906e808b200266da"
          ]
        },
        "id": "mkymnZ1M1vOn",
        "outputId": "5ebaca66-9f48-4a65-9b9b-6648211dbd7d"
      },
      "execution_count": 12,
      "outputs": [
        {
          "output_type": "stream",
          "name": "stderr",
          "text": [
            "The cache for model files in Transformers v4.22.0 has been updated. Migrating your old cache. This is a one-time only operation. You can interrupt this and resume the migration later on by calling `transformers.utils.move_cache()`.\n"
          ]
        },
        {
          "output_type": "display_data",
          "data": {
            "text/plain": [
              "0it [00:00, ?it/s]"
            ],
            "application/vnd.jupyter.widget-view+json": {
              "version_major": 2,
              "version_minor": 0,
              "model_id": "dca63aeef79348cfa17538845ec4a235"
            }
          },
          "metadata": {}
        },
        {
          "output_type": "display_data",
          "data": {
            "text/plain": [
              "config.json:   0%|          | 0.00/1.47k [00:00<?, ?B/s]"
            ],
            "application/vnd.jupyter.widget-view+json": {
              "version_major": 2,
              "version_minor": 0,
              "model_id": "35bc74534b5e4a8aa300f39708be31c8"
            }
          },
          "metadata": {}
        },
        {
          "output_type": "display_data",
          "data": {
            "text/plain": [
              "model.safetensors:   0%|          | 0.00/115M [00:00<?, ?B/s]"
            ],
            "application/vnd.jupyter.widget-view+json": {
              "version_major": 2,
              "version_minor": 0,
              "model_id": "dfc4f2145555439880a78eb088dda94d"
            }
          },
          "metadata": {}
        },
        {
          "output_type": "display_data",
          "data": {
            "text/plain": [
              "model.safetensors:   0%|          | 0.00/46.8M [00:00<?, ?B/s]"
            ],
            "application/vnd.jupyter.widget-view+json": {
              "version_major": 2,
              "version_minor": 0,
              "model_id": "4883513339094fb2b2412eed970f4af4"
            }
          },
          "metadata": {}
        }
      ]
    },
    {
      "cell_type": "code",
      "source": [
        "chunks"
      ],
      "metadata": {
        "colab": {
          "base_uri": "https://localhost:8080/"
        },
        "id": "IIBoncLB7apg",
        "outputId": "4445e707-3161-4094-e83e-db15a85e9e45"
      },
      "execution_count": 19,
      "outputs": [
        {
          "output_type": "execute_result",
          "data": {
            "text/plain": [
              "[<unstructured.documents.elements.CompositeElement at 0x7d08cd3254d0>,\n",
              " <unstructured.documents.elements.CompositeElement at 0x7d084c453d50>,\n",
              " <unstructured.documents.elements.CompositeElement at 0x7d084c453a50>,\n",
              " <unstructured.documents.elements.CompositeElement at 0x7d084c4538d0>,\n",
              " <unstructured.documents.elements.CompositeElement at 0x7d084c4539d0>,\n",
              " <unstructured.documents.elements.CompositeElement at 0x7d084c829b10>,\n",
              " <unstructured.documents.elements.CompositeElement at 0x7d084c82b1d0>]"
            ]
          },
          "metadata": {},
          "execution_count": 19
        }
      ]
    },
    {
      "cell_type": "code",
      "source": [
        "chunks[0].id"
      ],
      "metadata": {
        "colab": {
          "base_uri": "https://localhost:8080/",
          "height": 35
        },
        "id": "F1FQ7ZFo_OPo",
        "outputId": "58f9ca80-3901-48fa-c91a-3d853c6ef495"
      },
      "execution_count": 56,
      "outputs": [
        {
          "output_type": "execute_result",
          "data": {
            "text/plain": [
              "'1b60a9e9abf9663452fbcfffe1fa489e'"
            ],
            "application/vnd.google.colaboratory.intrinsic+json": {
              "type": "string"
            }
          },
          "metadata": {},
          "execution_count": 56
        }
      ]
    },
    {
      "cell_type": "code",
      "source": [
        "chunks[0].metadata.orig_elements"
      ],
      "metadata": {
        "colab": {
          "base_uri": "https://localhost:8080/"
        },
        "id": "TVISp9QW_7RX",
        "outputId": "afee3873-fc70-497a-b016-fcac4a70fdf6"
      },
      "execution_count": 57,
      "outputs": [
        {
          "output_type": "execute_result",
          "data": {
            "text/plain": [
              "[<unstructured.documents.elements.Image at 0x7d084ae69ed0>,\n",
              " <unstructured.documents.elements.Title at 0x7d084c534710>,\n",
              " <unstructured.documents.elements.NarrativeText at 0x7d084c4fe590>,\n",
              " <unstructured.documents.elements.NarrativeText at 0x7d084c483a90>,\n",
              " <unstructured.documents.elements.Title at 0x7d08cdde17d0>,\n",
              " <unstructured.documents.elements.Title at 0x7d08cdde0550>,\n",
              " <unstructured.documents.elements.NarrativeText at 0x7d08cdde1850>,\n",
              " <unstructured.documents.elements.ListItem at 0x7d08cdde1c50>,\n",
              " <unstructured.documents.elements.ListItem at 0x7d08cdde1d10>,\n",
              " <unstructured.documents.elements.ListItem at 0x7d084ae68090>,\n",
              " <unstructured.documents.elements.ListItem at 0x7d084ae684d0>,\n",
              " <unstructured.documents.elements.ListItem at 0x7d084ae68210>,\n",
              " <unstructured.documents.elements.ListItem at 0x7d084ae68c90>,\n",
              " <unstructured.documents.elements.ListItem at 0x7d084ae693d0>,\n",
              " <unstructured.documents.elements.ListItem at 0x7d084ae69610>,\n",
              " <unstructured.documents.elements.ListItem at 0x7d084ae69a90>,\n",
              " <unstructured.documents.elements.NarrativeText at 0x7d084ae6a2d0>,\n",
              " <unstructured.documents.elements.NarrativeText at 0x7d084ae6b1d0>,\n",
              " <unstructured.documents.elements.ListItem at 0x7d084ae6b450>,\n",
              " <unstructured.documents.elements.ListItem at 0x7d084ae6bc10>,\n",
              " <unstructured.documents.elements.ListItem at 0x7d084ae6be10>,\n",
              " <unstructured.documents.elements.ListItem at 0x7d084ae6a210>,\n",
              " <unstructured.documents.elements.NarrativeText at 0x7d084ae6a290>,\n",
              " <unstructured.documents.elements.ListItem at 0x7d084ae69990>,\n",
              " <unstructured.documents.elements.NarrativeText at 0x7d084ae69650>,\n",
              " <unstructured.documents.elements.NarrativeText at 0x7d084ae69210>,\n",
              " <unstructured.documents.elements.NarrativeText at 0x7d084ae68e90>,\n",
              " <unstructured.documents.elements.NarrativeText at 0x7d084ae68a90>]"
            ]
          },
          "metadata": {},
          "execution_count": 57
        }
      ]
    },
    {
      "cell_type": "code",
      "source": [
        "chunks[0].text"
      ],
      "metadata": {
        "colab": {
          "base_uri": "https://localhost:8080/",
          "height": 226
        },
        "id": "akzQL_3LAa56",
        "outputId": "dc3124a5-85ae-4342-8e1d-610158aadbaf"
      },
      "execution_count": 58,
      "outputs": [
        {
          "output_type": "execute_result",
          "data": {
            "text/plain": [
              "\"SPACE APPLICATIONS CENTRE AHMEDABAD\\n\\nNo. 5.2/12/2024/051\\n\\nDecember 31, 2024\\n\\nOFFICE ORDER\\n\\nSub: Re-Organisation of Space Applications Centre\\n\\nIn partial modification of earlier Office Orders, the following changes are effected in Space Applications Centre (SAC) with effect from January 23, 2025 and until further orders:\\n\\nI Mechanical Engineering Systems Area (MESA)\\n\\n1. Shri Sumit Dubey, Scientist/Engineer-’SF’ (PR.No.AC07729), CNDD-CNMG-MESA is hereby designated as Head-Communication & Navigation Passive Payload Systems Mechanical Design Division (CNPDD), CNMG. He shall report to Group Director, Communication and Navigation Systems Mechanical Group (CNMG).\\n\\nShri Jigar D. Gandhi, Scientist/Engineer-’SF’ (PR.No. AC07817), MQAG-SRSA is hereby transferred to CNMG-MESA and designated as Head-Communication & Navigation Payloads Active Payload Systems Mechanical Design Division (CNADD), CNMG. He shall report to Group Director, Communication and Navigation Systems Mechanical Group (CNMG).\\n\\nShri Shashank Saxena, Scientist/Engineer-'SF’ (PR.No. VS36230), CNID-CNMG-MESA is hereby designated as Head-Communication & Navigation Payloads Mechanical Integration Division (CNID), CNMG. He shall report to Group Director, Communication and Navigation Systems Mechanical Group (CNMG).\\n\\nShri Ulkesh B. Desai, Scientist/Engineer-’SG’ (PR.No.AC07399) and Group Head, MPMG-MESA shall also hold additional charge of Head-Microwave Payload Mechanical Design Division (MMDD), MPMG. Shri Vaibhav Kumar Upadhyay, Scientist/Engineer-’SE’ (PR.No. AC07840), MMDD is hereby designated as Deputy Head- MMDD. He shall report to Head, MMDD-MPMG.\\n\\nShri Anand Kumar M Patel, Scientist/Engineer-SG’ (PR.No. VS24797), MPMG-MESA is hereby designated as Head-Microwave Payload Mechanical Integration Division (MMID), MPMG. He shall report to Group Head, Microwave Payloads Mechanical Group (MPMG).\\n\\nShri Rahul Dev, Scientist/Engineer-'SF’ (PR.No. AC07732), OMDD-OPMG-MESA is hereby transferred to OMID and designated as Head-Optical Payloads Mechanical Integration Division (OMID), OPMG. He shall report to Group Director, Optical Payloads Mechanical Group (OPMG).\\n\\nShri Rakesh Kumar H Shah, Scientist/Engineer-’SF’ (PR.No.AC06331) is hereby designated as Head- Precision Machining Facility (PMF), MSFG. He shall report to Group Director, Mechanical Systems Fabrication Group (MSFG).\\n\\nMechanical Planning and Store Facility (MPSF) of MESA shall be responsible for the activities carried-out by it earlier and that of Mechanical Capacity Building Division (MCBD) of CBIG-MISA and is re-organised as Mechanical Planning, External Fabrication and Store Facility (MPFSF). MPFSF shall be responsible for planning of mechanical job processing related activities and also the planning and outsourcing of jobs to various external vendors for Centre’s Mechanical fabrication and associated activities like machining, fabrication, welding etc. MPFSF shall also be responsible for the contract management, development of new vendors for capacity building and management of store for the raw materials.\\n\\nShri Sukhjeet Singh Gill, Scientist/Engineer-SG (PR No. AC07199) is hereby designated as Head- Mechanical Planning, External Fabrication and Store Facility (MPFSF), MSFG. He shall report to Group Director, Mechanical Systems Fabrication Group (MSFG).\\n\\nShri Ashish S. Soni, Scientist/Engineer-SF (PR No. AC07434) is hereby designated as Head, Mechanical External Fabrication Section (MEFS), MPFSF. He shall report to Head, MPFSF.\\n\\nIL. Sensors Development Area (SEDA)\\n\\nShri Manoj Kumar, Scientist/Engineer-’G’ (PR.No. AC07354), PMOD-OSG-SEDA is hereby designated as Head-Panchromatic and Multispectral Optical Division (PMOD), OSG. He shall report to Group Director, Optical Systems Group (OSG).\\n\\n10. Smt. Moumita Dutta, Scientist/Engineer-’SG’ (PR.No. AC07799), HOD-OSG-SEDA is hereby designated as Head-Hyperspectral Optics Division (HOD), OSG. She shall report to Group Director, Optical Systems Group (OSG).\\n\\n11. Sensor Calibration Division (SCD), a new division formed under EOSDIG-SEDA, shall be responsible for carrying out detailed radiometric and spectral characterization and ground calibration of optical subsystems and payloads.\\n\\nDr. Harish Seth, Scientist/Engineer-’SG’ (PR.No. AC07367), SSD-EOSDIG-SEDA is hereby designated as Head- Sensor Calibration Division (SCD), EOSDIG. He shall report to Group Director, Electro- Optical System Design and Integration Group (EOSDIG).\\n\\n12. Considering the strategic importance and focus on indigenously designed detectors and related assemblies and characterization set-ups for electro-optical payloads for all near future earth and planetary observation programmes, the erstwhile Sensor Focal Plane Systems Division (SFSD), under EOSDIG-SEDA, is being re-organised into two separate divisions, viz. Sensor Imaging Detectors Division (SIDD) and Focal Plane System Assembly Division (FSAD).\\n\\nSIDD shall be responsible for design and development of detector arrays in UV to infrared regions for various EO missions. It shall also carry out detailed electrical and Electro-optical characterization for the detector arrays and realize Electro-Optical test benches for various remote sensing missions.\\n\\nShri Dhrupesh Shah, Scientist/Engineer-’SG’ (PR.No. AC07745), SFSD-EOSDIG-SEDA is hereby designated as Head-Sensor Imaging Detectors Division (SIDD), EOSDIG. He shall report to Group Director, Electro-Optical System Design and Integration Group (EOSDIG).\\n\\nFSAD shall be responsible for design and development of focal plane detector assemblies and Dewar and Cooler Assemblies for IR detectors for Electro Optical payloads. It shall also work out the required electrical, optics, thermal and mechanical interfaces of EO payloads.\\n\\nShri Ankur Jain, Scientist/Engineer-SG’ (PR.No. AC07829), SFSD-EOSDIG-SEDA is hereby designated as Head-Focal Plane System Assembly Division (FSAD), EOSDIG. He shall report to Group Director, Electro-Optical System Design and Integration Group (EOSDIG).\""
            ],
            "application/vnd.google.colaboratory.intrinsic+json": {
              "type": "string"
            }
          },
          "metadata": {},
          "execution_count": 58
        }
      ]
    },
    {
      "cell_type": "code",
      "source": [
        "elements = chunks[0].metadata.orig_elements\n",
        "chunk_images = [el for el in elements if 'Image' in str(type(el))]\n",
        "chunk_images[0].to_dict()"
      ],
      "metadata": {
        "colab": {
          "base_uri": "https://localhost:8080/"
        },
        "id": "ndPihOwlAZK-",
        "outputId": "fb899c70-b529-4295-a6f7-b2430ca4630b"
      },
      "execution_count": 59,
      "outputs": [
        {
          "output_type": "execute_result",
          "data": {
            "text/plain": [
              "{'type': 'Image',\n",
              " 'element_id': 'a6614efc-0bf6-4a4e-9ba3-71937ecb29a2',\n",
              " 'text': '',\n",
              " 'metadata': {'detection_class_prob': 0.40263956785202026,\n",
              "  'coordinates': {'points': ((61.30065155029297, 2076.048583984375),\n",
              "    (61.30065155029297, 2148.663330078125),\n",
              "    (172.45339965820312, 2148.663330078125),\n",
              "    (172.45339965820312, 2076.048583984375)),\n",
              "   'system': 'PixelSpace',\n",
              "   'layout_width': 1653,\n",
              "   'layout_height': 2339},\n",
              "  'last_modified': '2025-02-03T17:32:27',\n",
              "  'filetype': 'PPM',\n",
              "  'languages': ['eng'],\n",
              "  'page_number': 1,\n",
              "  'image_base64': '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',\n",
              "  'image_mime_type': 'image/jpeg'}}"
            ]
          },
          "metadata": {},
          "execution_count": 59
        }
      ]
    },
    {
      "cell_type": "code",
      "source": [],
      "metadata": {
        "id": "Xeh8BBA9Axp3"
      },
      "execution_count": null,
      "outputs": []
    },
    {
      "cell_type": "code",
      "source": [
        "# We get 2 types of elements from the partition_pdf function\n",
        "set([str(type(el)) for el in chunks])"
      ],
      "metadata": {
        "colab": {
          "base_uri": "https://localhost:8080/"
        },
        "id": "8VUCwI_35C9h",
        "outputId": "f11237a6-66f1-4b8a-b44e-3b98bf6e56b3"
      },
      "execution_count": 13,
      "outputs": [
        {
          "output_type": "execute_result",
          "data": {
            "text/plain": [
              "{\"<class 'unstructured.documents.elements.CompositeElement'>\"}"
            ]
          },
          "metadata": {},
          "execution_count": 13
        }
      ]
    },
    {
      "cell_type": "code",
      "source": [
        "# Each CompositeElement containes a bunch of related elements.\n",
        "# This makes it easy to use these elements together in a RAG pipeline.\n",
        "\n",
        "chunks[6].metadata.orig_elements"
      ],
      "metadata": {
        "colab": {
          "base_uri": "https://localhost:8080/"
        },
        "id": "hp4ikFEg6rfE",
        "outputId": "eb419802-bfca-4d31-8b47-c5c11e17c16f"
      },
      "execution_count": 21,
      "outputs": [
        {
          "output_type": "execute_result",
          "data": {
            "text/plain": [
              "[<unstructured.documents.elements.NarrativeText at 0x7d084adc6a50>,\n",
              " <unstructured.documents.elements.NarrativeText at 0x7d084adc6d90>,\n",
              " <unstructured.documents.elements.ListItem at 0x7d084adc7010>,\n",
              " <unstructured.documents.elements.NarrativeText at 0x7d084adc7290>,\n",
              " <unstructured.documents.elements.Image at 0x7d084adc7510>,\n",
              " <unstructured.documents.elements.Title at 0x7d08d6542c50>,\n",
              " <unstructured.documents.elements.Footer at 0x7d084adc7990>,\n",
              " <unstructured.documents.elements.NarrativeText at 0x7d084adc7bd0>,\n",
              " <unstructured.documents.elements.NarrativeText at 0x7d084adc7e50>]"
            ]
          },
          "metadata": {},
          "execution_count": 21
        }
      ]
    },
    {
      "cell_type": "code",
      "source": [
        "# This is what an extracted image looks like.\n",
        "# It contains the base64 representation only because we set the param extract_image_block_to_payload=True\n",
        "\n",
        "elements = chunks[6].metadata.orig_elements\n",
        "chunk_images = [el for el in elements if 'Image' in str(type(el))]\n",
        "chunk_images[0].to_dict()"
      ],
      "metadata": {
        "colab": {
          "base_uri": "https://localhost:8080/"
        },
        "id": "r6vm-hfH62ej",
        "outputId": "93e14e8d-ec34-46bf-faaa-e29dd5f213cb"
      },
      "execution_count": 22,
      "outputs": [
        {
          "output_type": "execute_result",
          "data": {
            "text/plain": [
              "{'type': 'Image',\n",
              " 'element_id': 'ffc64e83-1093-4442-8e28-819502c30740',\n",
              " 'text': 'base (PES oe (U4 UH ears) /(N M Desai)',\n",
              " 'metadata': {'detection_class_prob': 0.6211079955101013,\n",
              "  'coordinates': {'points': ((1199.1290283203125, 1260.572509765625),\n",
              "    (1199.1290283203125, 1400.120849609375),\n",
              "    (1618.9937744140625, 1400.120849609375),\n",
              "    (1618.9937744140625, 1260.572509765625)),\n",
              "   'system': 'PixelSpace',\n",
              "   'layout_width': 1653,\n",
              "   'layout_height': 2339},\n",
              "  'last_modified': '2025-02-03T17:32:27',\n",
              "  'filetype': 'PPM',\n",
              "  'languages': ['eng'],\n",
              "  'page_number': 10,\n",
              "  'image_base64': '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',\n",
              "  'image_mime_type': 'image/jpeg'}}"
            ]
          },
          "metadata": {},
          "execution_count": 22
        }
      ]
    },
    {
      "cell_type": "code",
      "source": [],
      "metadata": {
        "id": "_ZndGOjOA5Gj"
      },
      "execution_count": null,
      "outputs": []
    },
    {
      "cell_type": "code",
      "source": [
        "# separate tables from texts\n",
        "tables = []\n",
        "texts = []\n",
        "\n",
        "for chunk in chunks:\n",
        "    if \"Table\" in str(type(chunk)):\n",
        "        tables.append(chunk)\n",
        "\n",
        "    if \"CompositeElement\" in str(type((chunk))):\n",
        "        texts.append(chunk)"
      ],
      "metadata": {
        "id": "Kjcq8djW78iL"
      },
      "execution_count": 60,
      "outputs": []
    },
    {
      "cell_type": "code",
      "source": [],
      "metadata": {
        "colab": {
          "base_uri": "https://localhost:8080/",
          "height": 141
        },
        "id": "6p2As3KFA6JH",
        "outputId": "6182565d-b1ae-4206-a90f-b51159ab64b9"
      },
      "execution_count": 63,
      "outputs": [
        {
          "output_type": "error",
          "ename": "ValueError",
          "evalue": "0 is not in list",
          "traceback": [
            "\u001b[0;31m---------------------------------------------------------------------------\u001b[0m",
            "\u001b[0;31mValueError\u001b[0m                                Traceback (most recent call last)",
            "\u001b[0;32m<ipython-input-63-1aead36184bb>\u001b[0m in \u001b[0;36m<cell line: 0>\u001b[0;34m()\u001b[0m\n\u001b[0;32m----> 1\u001b[0;31m \u001b[0mtexts\u001b[0m\u001b[0;34m.\u001b[0m\u001b[0mindex\u001b[0m\u001b[0;34m(\u001b[0m\u001b[0;36m0\u001b[0m\u001b[0;34m)\u001b[0m\u001b[0;34m\u001b[0m\u001b[0;34m\u001b[0m\u001b[0m\n\u001b[0m",
            "\u001b[0;31mValueError\u001b[0m: 0 is not in list"
          ]
        }
      ]
    },
    {
      "cell_type": "code",
      "source": [
        "# Get the images from the CompositeElement objects\n",
        "def get_images_base64(chunks):\n",
        "    images_b64 = []\n",
        "    for chunk in chunks:\n",
        "        if \"CompositeElement\" in str(type(chunk)):\n",
        "            chunk_els = chunk.metadata.orig_elements\n",
        "            for el in chunk_els:\n",
        "                if \"Image\" in str(type(el)):\n",
        "                    images_b64.append(el.metadata.image_base64)\n",
        "    return images_b64\n",
        "\n",
        "images = get_images_base64(chunks)"
      ],
      "metadata": {
        "id": "xKkkyE5Q8Atf"
      },
      "execution_count": 25,
      "outputs": []
    },
    {
      "cell_type": "code",
      "source": [
        "import base64\n",
        "from IPython.display import Image, display\n",
        "\n",
        "def display_base64_image(base64_code):\n",
        "    # Decode the base64 string to binary\n",
        "    image_data = base64.b64decode(base64_code)\n",
        "    # Display the image\n",
        "    display(Image(data=image_data))\n",
        "\n",
        "display_base64_image(images[0])"
      ],
      "metadata": {
        "colab": {
          "base_uri": "https://localhost:8080/",
          "height": 90
        },
        "id": "OdKukkYw8Jyv",
        "outputId": "e8782f80-2f6a-4b3d-ae6f-835e215f371a"
      },
      "execution_count": 41,
      "outputs": [
        {
          "output_type": "display_data",
          "data": {
            "image/jpeg": "[encoded data removed]",
            "text/plain": [
              "<IPython.core.display.Image object>"
            ]
          },
          "metadata": {}
        }
      ]
    },
    {
      "cell_type": "code",
      "source": [
        "images"
      ],
      "metadata": {
        "colab": {
          "base_uri": "https://localhost:8080/"
        },
        "id": "Rnj1YnsI-mf7",
        "outputId": "d272b4ae-5dbb-433d-e035-d2222320c547"
      },
      "execution_count": 45,
      "outputs": [
        {
          "output_type": "execute_result",
          "data": {
            "text/plain": [
              "['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',\n",
              " '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',\n",
              " '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',\n",
              " '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',\n",
              " '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',\n",
              " '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']"
            ]
          },
          "metadata": {},
          "execution_count": 45
        }
      ]
    },
    {
      "cell_type": "code",
      "source": [
        "display_base64_image(images[0])"
      ],
      "metadata": {
        "colab": {
          "base_uri": "https://localhost:8080/",
          "height": 90
        },
        "id": "y_23d2ys-2iB",
        "outputId": "f0a10566-096e-4a9a-e2db-f1c498e97b76"
      },
      "execution_count": 48,
      "outputs": [
        {
          "output_type": "display_data",
          "data": {
            "image/jpeg": "[encoded data removed]",
            "text/plain": [
              "<IPython.core.display.Image object>"
            ]
          },
          "metadata": {}
        }
      ]
    },
    {
      "cell_type": "code",
      "source": [
        "pip freeze > requirements.txt"
      ],
      "metadata": {
        "id": "9PnxosslFkpK"
      },
      "execution_count": 65,
      "outputs": []
    }
  ]
}